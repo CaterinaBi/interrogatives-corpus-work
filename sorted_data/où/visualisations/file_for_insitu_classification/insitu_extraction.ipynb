{
 "cells": [
  {
   "cell_type": "markdown",
   "metadata": {},
   "source": [
    "In this file, I'll write some code to extract all instances of in situ questions from Sheet 1 of the `all_rows_classified.xls` file. My collegue Lena Baunaz will then classify them manually. "
   ]
  },
  {
   "cell_type": "code",
   "execution_count": 1,
   "metadata": {},
   "outputs": [],
   "source": [
    "# imports\n",
    "\n",
    "import pandas as pd\n",
    "import xlrd\n",
    "from openpyxl import Workbook"
   ]
  },
  {
   "cell_type": "code",
   "execution_count": 2,
   "metadata": {},
   "outputs": [
    {
     "name": "stdout",
     "output_type": "stream",
     "text": [
      "['export_requete_corpus_22-08-202']\n"
     ]
    }
   ],
   "source": [
    "# reads in the spreadsheet data\n",
    "\n",
    "workbook = xlrd.open_workbook('où_interrogatives_GLOBAL.xls')\n",
    "data = pd.ExcelFile(workbook)\n",
    "\n",
    " # returns the all the sheet names within the excel file\n",
    "print(data.sheet_names)"
   ]
  },
  {
   "cell_type": "code",
   "execution_count": 3,
   "metadata": {},
   "outputs": [
    {
     "name": "stdout",
     "output_type": "stream",
     "text": [
      "Total rows: 868\n",
      "Total columns: 13\n"
     ]
    }
   ],
   "source": [
    "sheet = workbook.sheet_by_name('export_requete_corpus_22-08-202')\n",
    "\n",
    "row_count = sheet.nrows\n",
    "col_count = sheet.ncols\n",
    "\n",
    "# prints metrics\n",
    "print(f'Total rows: {row_count}\\nTotal columns: {col_count}')"
   ]
  },
  {
   "cell_type": "code",
   "execution_count": 4,
   "metadata": {},
   "outputs": [
    {
     "name": "stdout",
     "output_type": "stream",
     "text": [
      "We extracted 335 rows of in situ non-cleft questions.\n",
      "We extracted 68 rows of in situ cleft questions.\n",
      "The selected rows are stored in a list of lists.\n",
      "The excluded occurrences are the following:\n",
      "[['Mot exact', 'où', 'in situ', 'cleft', 'monoclausal', \"et c'était où ça l'école ?\", 'ESLO1_ENT_073', 'ESLO1_ENT_073_C', 'BV', 3626859.0], ['Mot exact', 'où', 'in situ', 'cleft', 'monoclausal', \"et c'est où ça ?\", 'ESLO1_ENT_083', 'ESLO1_ENT_083_C', 'JSM', 302290.0], ['Mot exact', 'où', 'in situ', 'cleft', 'monoclausal', \"c'est où ?\", 'ESLO1_ENT_101', 'ESLO1_ENT_101_C', 'BV', 85235.0], ['Mot exact', 'où', 'in situ', 'cleft', 'monoclausal', \"c'est où enfin euh ?\", 'ESLO1_ENT_101', 'ESLO1_ENT_101_C', 'BV', 135976.0], ['Mot exact', 'où', 'in situ', 'cleft', 'monoclausal', \"et c'était où euh ?\", 'ESLO1_ENT_127', 'ESLO1_ENT_127_C', 'AR', 5206788.0], ['Mot exact', 'où', 'in situ', 'cleft', 'monoclausal', \"non non c'est où ça ?\", 'ESLO1_ENT_128', 'ESLO1_ENT_128_C', 'JSM', 1645566.0], ['Mot exact', 'où', 'in situ', 'cleft', 'monoclausal', \"Argonne c'est où ça ?\", 'ESLO1_ENT_128', 'ESLO1_ENT_128_C', 'JSM', 2259873.0], ['Mot exact', 'où', 'in situ', 'cleft', 'monoclausal', \"c'est où ça c'est à or- à Paris ou à Orléans ? Orléans c'est\", 'ESLO1_ENT_128', 'ESLO1_ENT_128_C', 'JSM', 2640799.0], ['Mot exact', 'où', 'in situ', 'cleft', 'monoclausal', \"c'est où ça c'est ?\", 'ESLO1_ENT_130', 'ESLO1_ENT_130_C', 'JSM', 309346.0], ['Mot exact', 'où', 'in situ', 'cleft', 'monoclausal', \"c'est où dans la mairie ? enfin je je suis allé à la mairie une ou deux\", 'ESLO1_ENT_141', 'ESLO1_ENT_141_C', 'JSM', 565229.0], ['Mot exact', 'où', 'in situ', 'cleft', 'monoclausal', \"c'est où ?\", 'ESLO1_ENTCONT_236', 'ESLO1_ENTCONT_236_C', 'HM', 874845.0], ['Mot exact', 'où', 'in situ', 'cleft', 'monoclausal', \"alors là c'était où ?\", 'ESLO1_ENTCLO_253', 'ESLO1_ENTCLO_253_C', 'JSM', 78841.0], ['Mot exact', 'où', 'in situ', 'cleft', 'monoclausal', \"c'était où ?\", 'ESLO1_ENTCLO_255', 'ESLO1_ENTCLO_255_C', 'HM', 386931.0], ['Mot exact', 'où', 'in situ', 'cleft', 'monoclausal', \"c'était où ?\", 'ESLO1_REPAS_275', 'ESLO1_REPAS_275_C', 'NS530AMIE', 2415099.0], ['Mot exact', 'où', 'in situ', 'cleft', 'monoclausal', \"alors entre temps euh c'est passé par où ?\", 'ESLO1_REU_542', 'ESLO1_REU_542_C', '542LOC2', 3274543.0], ['Mot exact', 'où', 'in situ', 'cleft', 'monoclausal', \"c'était où cette école braille ?\", 'ESLO1_CONSCMPP_708', 'ESLO1_CONSCMPP_708_C', '708ASOC', 1101363.0], ['Mot exact', 'où', 'in situ', 'cleft', 'monoclausal', \"vous êt- c'était où ?\", 'ESLO1_CONSCMPP_711', 'ESLO1_CONSCMPP_711_C', '711ASOC', 579445.0], ['Mot exact', 'où', 'in situ', 'cleft', 'monoclausal', \"c'était où à ?\", 'ESLO1_CONSCMPP_722', 'ESLO1_CONSCMPP_722_C', '722ASOC', 751984.0], ['Mot exact', 'où', 'in situ', 'cleft', 'monoclausal', \"vous étiez à l'école euh c'était où à ?\", 'ESLO1_CONSCMPP_724', 'ESLO1_CONSCMPP_724_C', '724ASOC', 608990.0], ['Mot exact', 'où', 'in situ', 'cleft', 'monoclausal', \"Porticcio c'est où ?\", 'ESLO2_ENT_1001', 'ESLO2_ENT_1001_C', 'ch_OB1', 3010263.0], ['Mot exact', 'où', 'in situ', 'cleft', 'monoclausal', \"je sais pas Pris c'est où Ajaccio ?\", 'ESLO2_ENT_1001', 'ESLO2_ENT_1001_C', 'BV1', 3039618.0], ['Mot exact', 'où', 'in situ', 'cleft', 'monoclausal', \"d'accord et c'était où ?\", 'ESLO2_ENT_1012', 'ESLO2_ENT_1012_C', 'ch_PP6', 1865397.0], ['Mot exact', 'où', 'in situ', 'cleft', 'monoclausal', \"c'est où ?\", 'ESLO2_ENT_1012', 'ESLO2_ENT_1012_C', 'ch_PP6', 1876376.0], ['Mot exact', 'où', 'in situ', 'cleft', 'monoclausal', \"c'était où à ?\", 'ESLO2_ENT_1015', 'ESLO2_ENT_1015_C', 'ch_AC7', 1101563.0], ['Mot exact', 'où', 'in situ', 'cleft', 'monoclausal', \"la limite euh d'Olivet et d'Orléans c'est où ? alors c'est la nationale vingt c'est\", 'ESLO2_ENT_1015', 'ESLO2_ENT_1015_C', 'ch_AC7', 2389652.0], ['Mot exact', 'où', 'in situ', 'cleft', 'monoclausal', \"ah oui d'accord euh c'est où ?\", 'ESLO2_ENT_1022', 'ESLO2_ENT_1022_C', 'ch_BH8', 632954.0], ['Mot exact', 'où', 'in situ', 'cleft', 'monoclausal', \"hm hm et c'est où alors ?\", 'ESLO2_ENT_1023', 'ESLO2_ENT_1023_C', 'YR23', 940174.0], ['Mot exact', 'où', 'in situ', 'cleft', 'monoclausal', \"et ça et là donc cette deuxième année de prépa- c'était où ?\", 'ESLO2_ENT_1026', 'ESLO2_ENT_1026_C', 'ch_PP6', 1277115.0], ['Mot exact', 'où', 'in situ', 'cleft', 'monoclausal', \"et c'était où ça ?\", 'ESLO2_ENT_1026', 'ESLO2_ENT_1026_C', 'ch_PP6', 3806066.0], ['Mot exact', 'où', 'in situ', 'cleft', 'monoclausal', \"d'accord et donc tes meilleures vacances c'était où ?\", 'ESLO2_ENT_1026', 'ESLO2_ENT_1026_C', 'ch_PP6', 4892120.0], ['Mot exact', 'où', 'in situ', 'cleft', 'monoclausal', \"c'est où ça ?\", 'ESLO2_ENT_1030', 'ESLO2_ENT_1030_C', 'ch_AC7', 1130779.0], ['Mot exact', 'où', 'in situ', 'cleft', 'monoclausal', \"ils disent et c'est où ça ?\", 'ESLO2_ENT_1039', 'ESLO2_ENT_1039_C', 'RA39', 3218930.0], ['Mot exact', 'où', 'in situ', 'cleft', 'monoclausal', \"et c'est où en fait ?\", 'ESLO2_ENT_1044', 'ESLO2_ENT_1044_C', 'ch_LA11', 2806533.0], ['Mot exact', 'où', 'in situ', 'cleft', 'monoclausal', \"[rire:noise:instantaneous] c'était où ?\", 'ESLO2_ENT_1047', 'ESLO2_ENT_1047_C', 'ch_MP10', 1851736.0], ['Mot exact', 'où', 'in situ', 'cleft', 'monoclausal', \"c'est où ?\", 'ESLO2_ENT_1047', 'ESLO2_ENT_1047_C', 'ch_MP10', 1855329.0], ['Mot exact', 'où', 'in situ', 'cleft', 'monoclausal', \"alors l'étranger c'est où ?\", 'ESLO2_ENT_1056', 'ESLO2_ENT_1056_C', 'ch_OB1', 2133645.0], ['Mot exact', 'où', 'in situ', 'cleft', 'monoclausal', \"et c'est où ?\", 'ESLO2_ENT_1060', 'ESLO2_ENT_1060_C', 'ch_LA11', 868745.0], ['Mot exact', 'où', 'in situ', 'cleft', 'monoclausal', \"et c'est où ?\", 'ESLO2_ENT_1060', 'ESLO2_ENT_1060_C', 'ch_LA11', 1724729.0], ['Mot exact', 'où', 'in situ', 'cleft', 'monoclausal', \"mais c'est où ? enfin à coté de quel coté justement ?\", 'ESLO2_ITI_1072', 'ESLO2_ITI_1072_C', 'JZ678', 12087.0], ['Mot exact', 'où', 'in situ', 'cleft', 'monoclausal', \"c'est c'est où ?\", 'ESLO2_ENT_1080', 'ESLO2_ENT_1080_C', 'ch_LA11', 3240876.0], ['Mot exact', 'où', 'in situ', 'cleft', 'monoclausal', \"c'est généralement c'est où ?\", 'ESLO2_ENT_1081', 'ESLO2_ENT_1081_C', 'ch_LA11', 1090432.0], ['Mot exact', 'où', 'in situ', 'cleft', 'monoclausal', \"c'était où à Saint-Jean-de-Braye euh ?\", 'ESLO2_DIA_1223', 'ESLO2_DIA_1223_C', 'ch_AC7', 322395.0], ['Mot exact', 'où', 'in situ', 'cleft', 'monoclausal', \"c'était où ?\", 'ESLO2_ENTJEUN_1231', 'ESLO2_ENTJEUN_1231_C', 'WT075', 1187148.0], ['Mot exact', 'où', 'in situ', 'cleft', 'monoclausal', \"c'est où l'inex situplosible ah il s'appelle comme ça lui ?\", 'ESLO2_ENTJEUN_1233', 'ESLO2_ENTJEUN_1233_C', 'WT075', 813053.0], ['Mot exact', 'où', 'in situ', 'cleft', 'biclausal', \"c'est où que j'ai été l'autre jour ?\", 'ESLO2_ENTJEUN_1234', 'ESLO2_ENTJEUN_1234_C', 'WZ853', 2222647.0], ['Mot exact', 'où', 'in situ', 'cleft', 'monoclausal', \"c'était où ça les barrettes ?\", 'ESLO2_24H_1249', 'ESLO2_24H_1249_C', 'NR390', 3195551.0], ['Mot exact', 'où', 'in situ', 'cleft', 'monoclausal', \"hm c'est où ça ?\", 'ESLO2_ECOLE_1252', 'ESLO2_ECOLE_1252_C', 'ch_PP6', 834665.0], ['Mot exact', 'où', 'in situ', 'cleft', 'biclausal', \"c'était où qu'il a per- qu'il a perdu ?\", 'ESLO2_REPAS_1253', 'ESLO2_REPAS_1253_C', 'WZ384FIL', 2015506.0], ['Mot exact', 'où', 'in situ', 'cleft', 'monoclausal', \"c'est où Saint-RaphaÎl ?\", 'ESLO2_REPAS_1260', 'ESLO2_REPAS_1260_C', 'MQ293', 383901.0], ['Mot exact', 'où', 'in situ', 'cleft', 'monoclausal', \"c'est où du coup ?\", 'ESLO2_REPAS_1260', 'ESLO2_REPAS_1260_C', 'BV647', 389310.0], ['Mot exact', 'où', 'in situ', 'cleft', 'monoclausal', \"c'est où ?\", 'ESLO2_REPAS_1260', 'ESLO2_REPAS_1260_C', 'MQ293', 390884.0], ['Mot exact', 'où', 'in situ', 'cleft', 'monoclausal', \"mais il y a un Aldi ici ? c'est où ?\", 'ESLO2_REPAS_1261', 'ESLO2_REPAS_1261_C', 'ZD520', 364928.0], ['Mot exact', 'où', 'in situ', 'cleft', 'monoclausal', \"c'est où les cro˚tons ?\", 'ESLO2_REPAS_1268', 'ESLO2_REPAS_1268_C', 'LD860FRE1', 537632.0], ['Mot exact', 'où', 'in situ', 'cleft', 'monoclausal', \"c'est où toi ?\", 'ESLO2_REPAS_1270', 'ESLO2_REPAS_1270_C', 'TG634', 1351797.0], ['Mot exact', 'où', 'in situ', 'cleft', 'monoclausal', \"non mais c'est où ?\", 'ESLO2_REPAS_1270', 'ESLO2_REPAS_1270_C', 'TG634', 1354302.0], ['Mot exact', 'où', 'in situ', 'cleft', 'monoclausal', \"euh ouais à à cette époque-là et l'école à ce moment-là euh c'était où ?\", 'ESLO2_ENT_1272', 'ESLO2_ENT_1272_C', 'ch_OB1', 498371.0], ['Mot exact', 'où', 'in situ', 'cleft', 'monoclausal', \"c'était où ça le BEP ?\", 'ESLO2_ENT_1272', 'ESLO2_ENT_1272_C', 'ch_OB1', 2239011.0], ['Mot exact', 'où', 'in situ', 'cleft', 'monoclausal', \"euh c'était où la nuit ? et\", 'ESLO2_ENT_1272', 'ESLO2_ENT_1272_C', 'ch_OB1', 2781933.0], ['Mot exact', 'où', 'in situ', 'cleft', 'monoclausal', \"alors c'est d'où ?\", 'ESLO2_ECOLE_1273', 'ESLO2_ECOLE_1273_C', 'PROF_Philippe', 300614.0], ['Mot exact', 'où', 'in situ', 'cleft', 'monoclausal', \"mathématiques c'est où ?\", 'ESLO2_ECOLE_1275', 'ESLO2_ECOLE_1275_C', 'PROF_Philippe', 1468984.0], ['Mot exact', 'où', 'in situ', 'cleft', 'monoclausal', \"il c'est où la Syrie Maryse ?\", 'ESLO2_ECOLE_1289', 'ESLO2_ECOLE_1289_C', 'ELEV_CM2', 1939062.0], ['Mot exact', 'où', 'in situ', 'cleft', 'monoclausal', \"pourquoi C C A C ? c'est où ça ?\", 'ESLO2_ECOLE_1293', 'ESLO2_ECOLE_1293_C', 'ELEV_CM2', 282507.0], ['Mot exact', 'où', 'in situ', 'cleft', 'monoclausal', \"alors c'était où ?\", 'ESLO2_ECOLE_1294', 'ESLO2_ECOLE_1294_C', 'PROF_Philippe', 496535.0], ['Mot exact', 'où', 'in situ', 'cleft', 'monoclausal', \"et là c'est écrit où pas possible ?\", 'ESLO2_ECOLE_1294', 'ESLO2_ECOLE_1294_C', 'PROF_Philippe', 4530338.0], ['Mot exact', 'où', 'in situ', 'cleft', 'monoclausal', \"et alors la fin c'est où ?\", 'ESLO2_ECOLE_1294', 'ESLO2_ECOLE_1294_C', 'PROF_Philippe', 4707753.0], ['Mot exact', 'où', 'in situ', 'cleft', 'biclausal', \"c'est où que tu l'as eu ?\", 'ESLO2_ECOLE_1296', 'ESLO2_ECOLE_1296_C', 'Cantine_Philippe', 4781442.0], ['Mot exact', 'où', 'in situ', 'cleft', 'monoclausal', \"c'était où la boulangerie tout ça ?\", 'ESLO2_ENT_1329', 'ESLO2_ENT_1329_C', 'ch_OB1', 947680.0], ['Mot exact', 'où', 'in situ', 'cleft', 'biclausal', \"c'était où qu'on en avait comme ça ? c'était à Oslo ?\", 'ESLO2_REPAS_1330', 'ESLO2_REPAS_1330_C', 'BD343MER', 2955940.0]]\n"
     ]
    }
   ],
   "source": [
    "# extracts the in situ data\n",
    "\n",
    "# initialises the list that will contain all selected rows\n",
    "selected_data = [] # in situ SV\n",
    "selected_data_clefts = [] # in situ clefts\n",
    "\n",
    "# iterates through the spreadsheet to extract the data we need\n",
    "for rx in range(sheet.nrows): # rx is an int, row is a list \n",
    "    row = sheet.row(rx)\n",
    "\n",
    "    classification = row[2] # index 2 is where text of interest is stored, returns a cell\n",
    "    text_string = classification.value # converts cell into str\n",
    "\n",
    "    interrogative = row[3]\n",
    "    interr_string = interrogative.value\n",
    "\n",
    "    # initialises list that will contain our data\n",
    "    # one list is created during each iteration\n",
    "    data_list = []\n",
    "    cleft_list = []\n",
    "\n",
    "    # creates list that stores selected rows\n",
    "    if text_string == 'in situ':\n",
    "        # excludes strings classified as clefts\n",
    "        if interr_string == 'SV':\n",
    "            data_list.append(row[0].value)\n",
    "            data_list.append(row[1].value)\n",
    "            data_list.append(row[2].value)\n",
    "            data_list.append(row[3].value)\n",
    "            data_list.append(row[4].value)\n",
    "            data_list.append(row[5].value)\n",
    "            data_list.append(row[6].value)\n",
    "            data_list.append(row[7].value)\n",
    "            data_list.append(row[8].value)\n",
    "            data_list.append(row[9].value)\n",
    "\n",
    "            selected_data.append(data_list)\n",
    "\n",
    "        elif interr_string == 'cleft': \n",
    "            cleft_list.append(row[0].value)\n",
    "            cleft_list.append(row[1].value)\n",
    "            cleft_list.append(row[2].value)\n",
    "            cleft_list.append(row[3].value)\n",
    "            cleft_list.append(row[4].value)\n",
    "            cleft_list.append(row[5].value)\n",
    "            cleft_list.append(row[6].value)\n",
    "            cleft_list.append(row[7].value)\n",
    "            cleft_list.append(row[8].value)\n",
    "            cleft_list.append(row[9].value)\n",
    "\n",
    "            selected_data_clefts.append(cleft_list)\n",
    "    \n",
    "# prints extracted rows\n",
    "print(f'We extracted {len(selected_data)} rows of in situ non-cleft questions.')\n",
    "print(f'We extracted {len(selected_data_clefts)} rows of in situ cleft questions.')\n",
    "print(f'The selected rows are stored in a list of lists.')\n",
    "\n",
    "# we are going to exclude these from our analysis for now\n",
    "print('The excluded occurrences are the following:')\n",
    "print(selected_data_clefts)"
   ]
  },
  {
   "cell_type": "code",
   "execution_count": 5,
   "metadata": {},
   "outputs": [
    {
     "name": "stdout",
     "output_type": "stream",
     "text": [
      "Dictionary converted into excel...\n"
     ]
    }
   ],
   "source": [
    "# creates spreadsheet using each nested list as a row\n",
    "\n",
    "df = pd.DataFrame(data=selected_data) # only adds non-clefts to the new file\n",
    "\n",
    "# converts into excel\n",
    "df.to_excel(\"où_insitu.xlsx\", index=False)\n",
    "\n",
    "print(\"Dictionary converted into excel...\")"
   ]
  }
 ],
 "metadata": {
  "interpreter": {
   "hash": "c7b2d02c07dc615871e2bd1a1246b89714f2151eeb8e00fcd4ada13785228d85"
  },
  "kernelspec": {
   "display_name": "Python 3.9.13 ('base')",
   "language": "python",
   "name": "python3"
  },
  "language_info": {
   "codemirror_mode": {
    "name": "ipython",
    "version": 3
   },
   "file_extension": ".py",
   "mimetype": "text/x-python",
   "name": "python",
   "nbconvert_exporter": "python",
   "pygments_lexer": "ipython3",
   "version": "3.9.13"
  },
  "orig_nbformat": 4
 },
 "nbformat": 4,
 "nbformat_minor": 2
}
