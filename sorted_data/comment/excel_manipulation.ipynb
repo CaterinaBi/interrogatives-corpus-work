{
 "cells": [
  {
   "cell_type": "markdown",
   "metadata": {},
   "source": [
    "Code implementation to accelerate data extraction from the excel files downloaded from the corpus repository."
   ]
  },
  {
   "cell_type": "code",
   "execution_count": 1,
   "metadata": {},
   "outputs": [],
   "source": [
    "# imports\n",
    "\n",
    "import openpyxl\n",
    "import pandas as pd"
   ]
  },
  {
   "cell_type": "code",
   "execution_count": 2,
   "metadata": {},
   "outputs": [
    {
     "name": "stdout",
     "output_type": "stream",
     "text": [
      "['export_requete_corpus_22-08-202']\n"
     ]
    }
   ],
   "source": [
    "# opens the excel sheet and reads it\n",
    "# excel sheet needs to be in the same working directory as this file\n",
    "# requires installation of xlrd >= 1.0.0 for Excel support\n",
    "\n",
    "file = 'comment.xls'\n",
    "data = pd.ExcelFile(file)\n",
    "\n",
    " # returns the all the sheet names within the excel file\n",
    "print(data.sheet_names)"
   ]
  },
  {
   "cell_type": "code",
   "execution_count": null,
   "metadata": {},
   "outputs": [],
   "source": [
    "# parses the sheet into a data frame to make sure it's being read in correctly\n",
    "\n",
    "df = data.parse('export_requete_corpus_22-08-202')\n",
    "df.info\n",
    "\n",
    "# only shows the first 10 rows\n",
    "df.head(10)"
   ]
  }
 ],
 "metadata": {
  "interpreter": {
   "hash": "c7b2d02c07dc615871e2bd1a1246b89714f2151eeb8e00fcd4ada13785228d85"
  },
  "kernelspec": {
   "display_name": "Python 3.9.13 ('base')",
   "language": "python",
   "name": "python3"
  },
  "language_info": {
   "codemirror_mode": {
    "name": "ipython",
    "version": 3
   },
   "file_extension": ".py",
   "mimetype": "text/x-python",
   "name": "python",
   "nbconvert_exporter": "python",
   "pygments_lexer": "ipython3",
   "version": "3.9.13"
  },
  "orig_nbformat": 4
 },
 "nbformat": 4,
 "nbformat_minor": 2
}
