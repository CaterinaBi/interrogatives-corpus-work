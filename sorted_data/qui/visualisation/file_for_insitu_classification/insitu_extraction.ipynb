{
 "cells": [
  {
   "cell_type": "markdown",
   "metadata": {},
   "source": [
    "In this file, I'll write some code to extract all instances of in situ questions from Sheet 1 of the `all_rows_classified.xls` file. My collegue Lena Baunaz will then classify them manually. "
   ]
  },
  {
   "cell_type": "code",
   "execution_count": 1,
   "metadata": {},
   "outputs": [],
   "source": [
    "# imports\n",
    "\n",
    "import pandas as pd\n",
    "import xlrd\n",
    "from openpyxl import Workbook"
   ]
  },
  {
   "cell_type": "code",
   "execution_count": 2,
   "metadata": {},
   "outputs": [
    {
     "name": "stdout",
     "output_type": "stream",
     "text": [
      "['Sheet1', 'Sheet2']\n"
     ]
    }
   ],
   "source": [
    "# reads in the spreadsheet data\n",
    "\n",
    "workbook = xlrd.open_workbook('qui_all_rows_classified.xls')\n",
    "data = pd.ExcelFile(workbook)\n",
    "\n",
    " # returns the all the sheet names within the excel file\n",
    "print(data.sheet_names)"
   ]
  },
  {
   "cell_type": "code",
   "execution_count": 3,
   "metadata": {},
   "outputs": [
    {
     "name": "stdout",
     "output_type": "stream",
     "text": [
      "Total rows: 780\n",
      "Total columns: 13\n"
     ]
    }
   ],
   "source": [
    "sheet = workbook.sheet_by_name('Sheet1')\n",
    "\n",
    "row_count = sheet.nrows\n",
    "col_count = sheet.ncols\n",
    "\n",
    "# prints metrics\n",
    "print(f'Total rows: {row_count}\\nTotal columns: {col_count}')"
   ]
  },
  {
   "cell_type": "code",
   "execution_count": 4,
   "metadata": {},
   "outputs": [
    {
     "name": "stdout",
     "output_type": "stream",
     "text": [
      "We extracted 44 rows of in situ non-cleft questions.\n",
      "We extracted 74 rows of in situ cleft questions.\n",
      "The selected rows are stored in a list of lists.\n",
      "The excluded occurrences are the following:\n",
      "[['Mot exact', 'quiIO', 'in situ', 'cleft', 'mono', \"et les autres que vous avez gardées c'était de qui ?\", 'ESLO1_ENT_052', 'ESLO1_ENT_052_C', 'NC', 2543312.0], ['Mot exact', 'qui', 'in situ', 'cleft', 'mono', \"c'est qui papi ?\", 'ESLO1_ENT_093', 'ESLO1_ENT_093_C', 'KT385PFIE', 708538.0], ['Mot exact', 'qui', 'in situ', 'cleft', 'mono', \"c'est qui pour vous ?\", 'ESLO1_ENT_111', 'ESLO1_ENT_111_C', 'JK', 2178204.0], ['Mot exact', 'qui', 'in situ', 'cleft', 'mono', \"et c'est qui nous ?\", 'ESLO1_ENT_116', 'ESLO1_ENT_116_C', 'NC', 266014.0], ['Mot exact', 'qui', 'in situ', 'cleft', 'mono', \"on c'est qui ?\", 'ESLO1_ENT_117', 'ESLO1_ENT_117_C', 'JSM', 949532.0], ['Mot exact', 'quiS', 'in situ', 'cleft', 'mono', \"c'est qui ?\", 'ESLO1_ENT_128', 'ESLO1_ENT_128_C', 'TN153AMI', 3157702.0], ['Mot exact', 'qui', 'in situ', 'cleft', 'mono', \"c'est qui ? ce sont quoi ? ce c'est le conseil municipal ou\", 'ESLO1_ENT_140', 'ESLO1_ENT_140_C', 'JK', 801172.0], ['Mot exact', 'quiS', 'in situ', 'cleft', 'bi', \"ben qui c'est qui peut se le payer ?\", 'ESLO1_ENT_151', 'ESLO1_ENT_151_C', 'ZB600', 3349131.0], ['Mot exact', 'quiIO', 'in situ', 'cleft', 'mono', \"c'est à qui cet oncle-là ?\", 'ESLO1_ENTCLO_264', 'ESLO1_ENTCLO_264_C', '407PERSFIE', 422013.0], ['Mot exact', 'qui', 'in situ', 'cleft', 'mono', \"c'est qui ?\", 'ESLO1_REPAS_275', 'ESLO1_REPAS_275_C', 'NS530', 2828208.0], ['Mot exact', 'quiS', 'in situ', 'cleft', 'bi', \"moutarde c'est qui qui veut de la moutarde ? c'est qui qui veut de la moutarde ?\", 'ESLO1_REPAS_278', 'ESLO1_REPAS_278_C', 'XZ501PFIE', 1356256.0], ['Mot exact', 'quiS', 'in situ', 'cleft', 'mono', \"c'est c'est qui ou c'est quoi qui décide des choix de manuels ?\", 'ESLO1_INTPERS_407', 'ESLO1_INTPERS_407_C', 'HM', 1162022.0], ['Mot exact', 'quiS', 'in situ', 'cleft', 'bi', \"[conv:noise:begin] bah qui c'est qui vous soigne en bas des pharmaciennes ?\", 'ESLO1_REU_551', 'ESLO1_REU_551_C', 'QB100', 6794627.0], ['Mot exact', 'qui', 'in situ', 'cleft', 'mono', \"on c'est c'est c'est qui ?\", 'ESLO2_ENT_1014', 'ESLO2_ENT_1014_C', 'ch_OB1', 156905.0], ['Mot exact', 'quiS', 'in situ', 'cleft', 'mono', \"et Olivet c'est c'est qui le maire ?\", 'ESLO2_ENT_1030', 'ESLO2_ENT_1030_C', 'ch_AC7', 2826501.0], ['Mot exact', 'quiS', 'in situ', 'cleft', 'mono', \"et quand vous dites les gens c'est plutôt enfin qui ?\", 'ESLO2_ENT_1081', 'ESLO2_ENT_1081_C', 'ch_LA11', 1889978.0], ['Mot exact', 'quiS', 'in situ', 'cleft', 'bi', \"c'est qui qui va écouter ça ?\", 'ESLO2_ITI_1160', 'ESLO2_ITI_1160_C', 'FN218', 141339.0], ['Mot exact', 'quiIO', 'in situ', 'cleft', 'mono', \"c'est pour qui celle-là ?\", 'ESLO2_LIVRENF_1251', 'ESLO2_LIVRENF_1251_C', 'ENF_KN446', 278907.0], ['Mot exact', 'quiS', 'in situ', 'cleft', 'mono', \"c'est qui elle ?\", 'ESLO2_REPAS_1253', 'ESLO2_REPAS_1253_C', 'WZ384FIE', 1136354.0], ['Mot exact', 'quiS', 'in situ', 'cleft', 'mono', \"c'est qui ça Amédée ?\", 'ESLO2_REPAS_1253', 'ESLO2_REPAS_1253_C', 'WZ384MAR', 1681971.0], ['Mot exact', 'quiIO', 'in situ', 'cleft', 'mono', \"c'est à qui ?\", 'ESLO2_REPAS_1254', 'ESLO2_REPAS_1254_C', 'WZ384FIE', 355880.0], ['Mot exact', 'quiS', 'in situ', 'cleft', 'bi', \"mais qui c'est qui a dit que c'était souvent comme ça ?\", 'ESLO2_REPAS_1254', 'ESLO2_REPAS_1254_C', 'WZ384MAR', 484293.0], ['Mot exact', 'qui', 'in situ', 'cleft', 'mono', \"c'est qui ?\", 'ESLO2_REPAS_1260', 'ESLO2_REPAS_1260_C', 'MQ293', 753079.0], ['Mot exact', 'quiS', 'in situ', 'cleft', 'mono', \"c'est qui Leslie ?\", 'ESLO2_REPAS_1260', 'ESLO2_REPAS_1260_C', 'DR381', 1083536.0], ['Mot exact', 'quiS', 'in situ', 'cleft', 'bi', \"c'est qui qui l'a fait ?\", 'ESLO2_REPAS_1261', 'ESLO2_REPAS_1261_C', 'KX664', 778586.0], ['Mot exact', 'quiS', 'in situ', 'cleft', 'bi', \"c'est qui qui l'a fait ?\", 'ESLO2_REPAS_1261', 'ESLO2_REPAS_1261_C', 'ZV069', 796275.0], ['Mot exact', 'quiS', 'in situ', 'cleft', 'bi', \"c'est c'est qui qui t'a draguée comme prof déjà ?\", 'ESLO2_REPAS_1262', 'ESLO2_REPAS_1262_C', 'PC261', 268612.0], ['Mot exact', 'quiS', 'in situ', 'cleft', 'bi', \"c'est qui qui la chante cette chanson ?\", 'ESLO2_REPAS_1262', 'ESLO2_REPAS_1262_C', 'PC261', 321414.0], ['Mot exact', 'quiS', 'in situ', 'cleft', 'bi', \"alors c'est qui qui la chante ?\", 'ESLO2_REPAS_1262', 'ESLO2_REPAS_1262_C', 'KR001', 325778.0], ['Mot exact', 'quiS', 'in situ', 'cleft', 'mono', \"c'est qui Henri ?\", 'ESLO2_REPAS_1262', 'ESLO2_REPAS_1262_C', 'KR001', 1332830.0], ['Mot exact', 'quiS', 'in situ', 'cleft', 'bi', \"bah qui c'est qui t'a appelé ?\", 'ESLO2_REPAS_1266', 'ESLO2_REPAS_1266_C', 'FH449', 800936.0], ['Mot exact', 'quiS', 'in situ', 'cleft', 'bi', \"et c'est qui qui y va ?\", 'ESLO2_REPAS_1267', 'ESLO2_REPAS_1267_C', 'GG675', 653066.0], ['Mot exact', 'qui', 'in situ', 'cleft', 'mono', \"c'est qui ?\", 'ESLO2_REPAS_1267', 'ESLO2_REPAS_1267_C', 'GG675', 812562.0], ['Mot exact', 'qui', 'in situ', 'cleft', 'mono', \"c'est qui ?\", 'ESLO2_REPAS_1267', 'ESLO2_REPAS_1267_C', 'GG675', 816568.0], ['Mot exact', 'qui', 'in situ', 'cleft', 'mono', \"c'est qui ?\", 'ESLO2_REPAS_1267', 'ESLO2_REPAS_1267_C', 'GG675', 819969.0], ['Mot exact', 'qui', 'in situ', 'cleft', 'mono', \"c'est qui ça ?\", 'ESLO2_REPAS_1267', 'ESLO2_REPAS_1267_C', 'GG675PER', 1894887.0], ['Mot exact', 'qui', 'in situ', 'cleft', 'mono', \"c'est qui ?\", 'ESLO2_REPAS_1268', 'ESLO2_REPAS_1268_C', 'LD860FRE2', 718699.0], ['Mot exact', 'qui', 'in situ', 'cleft', 'mono', \"c'est qui ?\", 'ESLO2_REPAS_1268', 'ESLO2_REPAS_1268_C', 'LD860FRE1', 720466.0], ['Mot exact', 'quiS', 'in situ', 'cleft', 'mono', \"j'étais en train de me dire c'est qui ?\", 'ESLO2_REPAS_1269', 'ESLO2_REPAS_1269_C', 'BB302', 704669.0], ['Mot exact', 'quiS', 'in situ', 'cleft', 'mono', \"c'est qui ? ouais\", 'ESLO2_REPAS_1269', 'ESLO2_REPAS_1269_C', 'BB302FRE', 705804.0], ['Mot exact', 'qui', 'in situ', 'cleft', 'mono', \"c'est qui l'autre ?\", 'ESLO2_REPAS_1270', 'ESLO2_REPAS_1270_C', 'TG634', 606753.0], ['Mot exact', 'qui', 'in situ', 'cleft', 'mono', \"c'est qui ?\", 'ESLO2_REPAS_1270', 'ESLO2_REPAS_1270_C', 'TG634FIE', 1371230.0], ['Mot exact', 'qui', 'in situ', 'cleft', 'mono', \"la deuxiéme place c'est qui ?\", 'ESLO2_ECOLE_1285', 'ESLO2_ECOLE_1285_C', 'PROF_Philippe', 913565.0], ['Mot exact', 'quiS', 'in situ', 'cleft', 'bi', \"[rire en fond:noise:instantaneous] c'est qui qui est derriére ?\", 'ESLO2_ECOLE_1286', 'ESLO2_ECOLE_1286_C', 'PROF_Philippe', 4100847.0], ['Mot exact', 'qui', 'in situ', 'cleft', 'mono', \"c'est qui ?\", 'ESLO2_ECOLE_1289', 'ESLO2_ECOLE_1289_C', 'ELEV_CM2', 1018440.0], ['Mot exact', 'qui', 'in situ', 'cleft', 'mono', \"c'est qui ?\", 'ESLO2_ECOLE_1289', 'ESLO2_ECOLE_1289_C', 'ELEV_CM2', 1020561.0], ['Mot exact', 'quiS', 'in situ', 'cleft', 'mono', \"Poussy c'est qui ça Poussy ?\", 'ESLO2_ECOLE_1289', 'ESLO2_ECOLE_1289_C', 'PROF_Maryse', 1398604.0], ['Mot exact', 'quiS', 'in situ', 'cleft', 'mono', \"ah c'est qui elle ?\", 'ESLO2_ECOLE_1289', 'ESLO2_ECOLE_1289_C', 'ELEV_CM2', 2335007.0], ['Mot exact', 'quiS', 'in situ', 'cleft', 'mono', \"c'est qui les collégues ?\", 'ESLO2_ECOLE_1292', 'ESLO2_ECOLE_1292_C', 'ELEV_CM2', 1416893.0], ['Mot exact', 'quiS', 'in situ', 'cleft', 'mono', \"c'est qui les collégues ?\", 'ESLO2_ECOLE_1293', 'ESLO2_ECOLE_1293_C', 'ELEV_CM2', 1627387.0], ['Mot exact', 'quiS', 'in situ', 'cleft', 'mono', \"c'est qui ?\", 'ESLO2_ECOLE_1293', 'ESLO2_ECOLE_1293_C', 'ELEV_CM2', 1977472.0], ['Mot exact', 'quiS', 'in situ', 'cleft', 'mono', \"c'était qui lui ?\", 'ESLO2_ECOLE_1295', 'ESLO2_ECOLE_1295_C', 'ELEV_CM2_Johana', 852266.0], ['Mot exact', 'quiS', 'in situ', 'cleft', 'mono', 'ouais mais à qui ?', 'ESLO2_ECOLE_1295', 'ESLO2_ECOLE_1295_C', 'ELEV_CM2', 957302.0], ['Mot exact', 'quiS', 'in situ', 'cleft', 'mono', \"c'est qui le loup en fait ?\", 'ESLO2_ECOLE_1296', 'ESLO2_ECOLE_1296_C', 'ELEV_CM2', 4945953.0], ['Mot exact', 'quiS', 'in situ', 'cleft', 'bi', \"c'est qui qui a perdu sa dent ?\", 'ESLO2_ECOLE_1296', 'ESLO2_ECOLE_1296_C', 'ELEV_CM2', 5227643.0], ['Mot exact', 'quiS', 'in situ', 'cleft', 'mono', \"c'est qui là ?\", 'ESLO2_ECOLE_1296', 'ESLO2_ECOLE_1296_C', 'Cantine_Philippe', 5322470.0], ['Mot exact', 'quiS', 'in situ', 'cleft', 'mono', \"c'est qui ?\", 'ESLO2_ECOLE_1296', 'ESLO2_ECOLE_1296_C', 'ELEV_CM2', 5359490.0], ['Mot exact', 'quiS', 'in situ', 'cleft', 'mono', \"c'est qui le loup ?\", 'ESLO2_ECOLE_1296', 'ESLO2_ECOLE_1296_C', 'ELEV_CM2', 5507215.0], ['Mot exact', 'quiS', 'in situ', 'cleft', 'mono', \"c'est qui le loup ?\", 'ESLO2_ECOLE_1296', 'ESLO2_ECOLE_1296_C', 'ELEV_CM2', 5661241.0], ['Mot exact', 'quiS', 'in situ', 'cleft', 'mono', \"ouais ouais c'est vrai c'est qui le loup ?\", 'ESLO2_ECOLE_1296', 'ESLO2_ECOLE_1296_C', 'ELEV_CM2', 5662049.0], ['Mot exact', 'quiS', 'in situ', 'cleft', 'mono', \"c'est qui le loup ?\", 'ESLO2_ECOLE_1296', 'ESLO2_ECOLE_1296_C', 'ELEV_CM2', 5807823.0], ['Mot exact', 'quiS', 'in situ', 'cleft', 'mono', \"c'est qui ?\", 'ESLO2_ECOLE_1296', 'ESLO2_ECOLE_1296_C', 'ELEV_CM2', 5871956.0], ['Mot exact', 'quiS', 'in situ', 'cleft', 'mono', \"c'est qui ?\", 'ESLO2_ECOLE_1296', 'ESLO2_ECOLE_1296_C', 'ELEV_CM2', 5892676.0], ['Mot exact', 'quiS', 'in situ', 'cleft', 'mono', \"c'est qui ?\", 'ESLO2_ECOLE_1296', 'ESLO2_ECOLE_1296_C', 'ELEV_CM2', 5898694.0], ['Mot exact', 'quiS', 'in situ', 'cleft', 'bi', \"c'est qui qui a fait ça ?\", 'ESLO2_ECOLE_1296', 'ESLO2_ECOLE_1296_C', 'ELEV_CM2', 5899691.0], ['Mot exact', 'quiS', 'in situ', 'cleft', 'mono', \"c'est qui ?\", 'ESLO2_ECOLE_1296', 'ESLO2_ECOLE_1296_C', 'ELEV_CM2', 5960664.0], ['Mot exact', 'quiS', 'in situ', 'cleft', 'mono', \"mais non mais c'est qui c'est qui Philippe le loup ?\", 'ESLO2_ECOLE_1296', 'ESLO2_ECOLE_1296_C', 'ELEV_CM2', 6282167.0], ['Mot exact', 'qui', 'in situ', 'cleft', 'mono', \"ah c'est qui ?\", 'ESLO2_LIVRENF_1311', 'ESLO2_LIVRENF_1311_C', 'LEC_MC019', 278841.0], ['Mot exact', 'quiS', 'in situ', 'cleft', 'mono', \"c'est qui Grignotin c'est la marmotte?\", 'ESLO2_LIVRENF_1311', 'ESLO2_LIVRENF_1311_C', 'LEC_MC019', 638286.0], ['Mot exact', 'quiS', 'in situ', 'cleft', 'mono', \"c'est qui ça c'est la maîtresse ?\", 'ESLO2_LIVRENF_1312', 'ESLO2_LIVRENF_1312_C', 'LEC_ZD381', 309542.0], ['Mot exact', 'quiS', 'in situ', 'cleft', 'mono', \"c'est qui Suzana ?\", 'ESLO2_LIVRENF_1317', 'ESLO2_LIVRENF_1317_C', 'ENF_GW809', 74948.0], ['Mot exact', 'quiS', 'in situ', 'cleft', 'mono', \"oh c'est des fleurs et puis ça c'est qui ça ?\", 'ESLO2_LIVRENF_1319', 'ESLO2_LIVRENF_1319_C', 'LEC_JJ762', 216652.0], ['Mot exact', 'quiS', 'in situ', 'cleft', 'bi', \"[main'nant:pronounce:instantaneous] qui c'est qui est pas content ?\", 'ESLO2_LIVRENF_1327', 'ESLO2_LIVRENF_1327_C', 'LEC_RF060', 435070.0], ['Mot exact', 'quiS', 'in situ', 'cleft', 'bi', \"qui qu'est pas content ?\", 'ESLO2_LIVRENF_1327', 'ESLO2_LIVRENF_1327_C', 'KX208', 550508.0]]\n"
     ]
    }
   ],
   "source": [
    "# extracts the in situ data\n",
    "\n",
    "# initialises the list that will contain all selected rows\n",
    "selected_data = [] # in situ SV\n",
    "selected_data_clefts = [] # in situ clefts\n",
    "\n",
    "# iterates through the spreadsheet to extract the data we need\n",
    "for rx in range(sheet.nrows): # rx is an int, row is a list \n",
    "    row = sheet.row(rx)\n",
    "\n",
    "    classification = row[2] # index 2 is where text of interest is stored, returns a cell\n",
    "    text_string = classification.value # converts cell into str\n",
    "\n",
    "    interrogative = row[3]\n",
    "    interr_string = interrogative.value\n",
    "\n",
    "    # initialises list that will contain our data\n",
    "    # one list is created during each iteration\n",
    "    data_list = []\n",
    "    cleft_list = []\n",
    "\n",
    "    # creates list that stores selected rows\n",
    "    if text_string == 'in situ':\n",
    "        # excludes strings classified as clefts\n",
    "        if interr_string == 'SV':\n",
    "            data_list.append(row[0].value)\n",
    "            data_list.append(row[1].value)\n",
    "            data_list.append(row[2].value)\n",
    "            data_list.append(row[3].value)\n",
    "            data_list.append(row[4].value)\n",
    "            data_list.append(row[5].value)\n",
    "            data_list.append(row[6].value)\n",
    "            data_list.append(row[7].value)\n",
    "            data_list.append(row[8].value)\n",
    "            data_list.append(row[9].value)\n",
    "\n",
    "            selected_data.append(data_list)\n",
    "\n",
    "        elif interr_string == 'cleft': \n",
    "            cleft_list.append(row[0].value)\n",
    "            cleft_list.append(row[1].value)\n",
    "            cleft_list.append(row[2].value)\n",
    "            cleft_list.append(row[3].value)\n",
    "            cleft_list.append(row[4].value)\n",
    "            cleft_list.append(row[5].value)\n",
    "            cleft_list.append(row[6].value)\n",
    "            cleft_list.append(row[7].value)\n",
    "            cleft_list.append(row[8].value)\n",
    "            cleft_list.append(row[9].value)\n",
    "\n",
    "            selected_data_clefts.append(cleft_list)\n",
    "    \n",
    "# prints extracted rows\n",
    "print(f'We extracted {len(selected_data)} rows of in situ non-cleft questions.')\n",
    "print(f'We extracted {len(selected_data_clefts)} rows of in situ cleft questions.')\n",
    "print(f'The selected rows are stored in a list of lists.')\n",
    "\n",
    "# we are going to exclude these from our analysis for now\n",
    "print('The excluded occurrences are the following:')\n",
    "print(selected_data_clefts)"
   ]
  },
  {
   "cell_type": "code",
   "execution_count": 5,
   "metadata": {},
   "outputs": [
    {
     "name": "stdout",
     "output_type": "stream",
     "text": [
      "Dictionary converted into excel...\n"
     ]
    }
   ],
   "source": [
    "# creates spreadsheet using each nested list as a row\n",
    "\n",
    "df = pd.DataFrame(data=selected_data) # only adds non-clefts to the new file\n",
    "\n",
    "# converts into excel\n",
    "df.to_excel(\"qui_insitu.xlsx\", index=False)\n",
    "\n",
    "print(\"Dictionary converted into excel...\")"
   ]
  }
 ],
 "metadata": {
  "interpreter": {
   "hash": "c7b2d02c07dc615871e2bd1a1246b89714f2151eeb8e00fcd4ada13785228d85"
  },
  "kernelspec": {
   "display_name": "Python 3.9.13 ('base')",
   "language": "python",
   "name": "python3"
  },
  "language_info": {
   "codemirror_mode": {
    "name": "ipython",
    "version": 3
   },
   "file_extension": ".py",
   "mimetype": "text/x-python",
   "name": "python",
   "nbconvert_exporter": "python",
   "pygments_lexer": "ipython3",
   "version": "3.9.13"
  },
  "orig_nbformat": 4
 },
 "nbformat": 4,
 "nbformat_minor": 2
}
