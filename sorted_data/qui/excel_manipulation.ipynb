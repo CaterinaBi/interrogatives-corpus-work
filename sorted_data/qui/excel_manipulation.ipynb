{
 "cells": [
  {
   "cell_type": "markdown",
   "metadata": {},
   "source": [
    "Code implementation to accelerate data extraction from the excel files downloaded from the corpus repository."
   ]
  },
  {
   "cell_type": "code",
   "execution_count": 1,
   "metadata": {},
   "outputs": [],
   "source": [
    "# imports\n",
    "\n",
    "import pandas as pd\n",
    "import xlrd"
   ]
  },
  {
   "cell_type": "code",
   "execution_count": 2,
   "metadata": {},
   "outputs": [
    {
     "name": "stdout",
     "output_type": "stream",
     "text": [
      "['rechercherlexique']\n"
     ]
    }
   ],
   "source": [
    "# opens the excel sheet and reads it\n",
    "# excel sheet needs to be in the same working directory as this file\n",
    "\n",
    "file = 'qui.xls'\n",
    "data = pd.ExcelFile(file)\n",
    "\n",
    " # returns the all the sheet names within the excel file\n",
    "print(data.sheet_names)"
   ]
  },
  {
   "cell_type": "code",
   "execution_count": 3,
   "metadata": {},
   "outputs": [
    {
     "data": {
      "text/html": [
       "<div>\n",
       "<style scoped>\n",
       "    .dataframe tbody tr th:only-of-type {\n",
       "        vertical-align: middle;\n",
       "    }\n",
       "\n",
       "    .dataframe tbody tr th {\n",
       "        vertical-align: top;\n",
       "    }\n",
       "\n",
       "    .dataframe thead th {\n",
       "        text-align: right;\n",
       "    }\n",
       "</style>\n",
       "<table border=\"1\" class=\"dataframe\">\n",
       "  <thead>\n",
       "    <tr style=\"text-align: right;\">\n",
       "      <th></th>\n",
       "      <th>recherche</th>\n",
       "      <th>occurrence</th>\n",
       "      <th>enregistrement</th>\n",
       "      <th>transcription</th>\n",
       "      <th>locuteur</th>\n",
       "      <th>debut (ms)</th>\n",
       "      <th>fin (ms)</th>\n",
       "      <th>debut (hh:mm:ss)</th>\n",
       "      <th>fin (hh:mm:ss)</th>\n",
       "      <th>segment</th>\n",
       "    </tr>\n",
       "  </thead>\n",
       "  <tbody>\n",
       "    <tr>\n",
       "      <th>0</th>\n",
       "      <td>Mot exact</td>\n",
       "      <td>qui</td>\n",
       "      <td>ESLO1_ENT_015</td>\n",
       "      <td>ESLO1_ENT_015_C</td>\n",
       "      <td>NS571</td>\n",
       "      <td>3257108.0</td>\n",
       "      <td>3287567.0</td>\n",
       "      <td>00:54:17</td>\n",
       "      <td>00:54:47</td>\n",
       "      <td>euh c'est s˚r que un Ètranger qui vient en Fra...</td>\n",
       "    </tr>\n",
       "    <tr>\n",
       "      <th>1</th>\n",
       "      <td>Mot exact</td>\n",
       "      <td>qui</td>\n",
       "      <td>ESLO1_ENT_015</td>\n",
       "      <td>ESLO1_ENT_015_C</td>\n",
       "      <td>NS571</td>\n",
       "      <td>3385223.0</td>\n",
       "      <td>3393832.0</td>\n",
       "      <td>00:56:25</td>\n",
       "      <td>00:56:33</td>\n",
       "      <td>ah ben une personne avec qui je travaille c'es...</td>\n",
       "    </tr>\n",
       "    <tr>\n",
       "      <th>2</th>\n",
       "      <td>Mot exact</td>\n",
       "      <td>qui</td>\n",
       "      <td>ESLO1_ENT_017</td>\n",
       "      <td>ESLO1_ENT_017_C</td>\n",
       "      <td>QB100</td>\n",
       "      <td>63605.0</td>\n",
       "      <td>65356.0</td>\n",
       "      <td>00:01:03</td>\n",
       "      <td>00:01:05</td>\n",
       "      <td>pas toujours trËs bien qui viennent y habiter</td>\n",
       "    </tr>\n",
       "    <tr>\n",
       "      <th>3</th>\n",
       "      <td>Mot exact</td>\n",
       "      <td>qui</td>\n",
       "      <td>ESLO1_ENT_017</td>\n",
       "      <td>ESLO1_ENT_017_C</td>\n",
       "      <td>QB100</td>\n",
       "      <td>97160.0</td>\n",
       "      <td>98641.0</td>\n",
       "      <td>00:01:37</td>\n",
       "      <td>00:01:38</td>\n",
       "      <td>trËs bien qui habitent la rue hein ?</td>\n",
       "    </tr>\n",
       "    <tr>\n",
       "      <th>4</th>\n",
       "      <td>Mot exact</td>\n",
       "      <td>qui</td>\n",
       "      <td>ESLO1_ENT_017</td>\n",
       "      <td>ESLO1_ENT_017_C</td>\n",
       "      <td>QB100</td>\n",
       "      <td>165435.0</td>\n",
       "      <td>169832.0</td>\n",
       "      <td>00:02:45</td>\n",
       "      <td>00:02:49</td>\n",
       "      <td>puÈriculture qui ont un an d'Ètudes on les emp...</td>\n",
       "    </tr>\n",
       "    <tr>\n",
       "      <th>5</th>\n",
       "      <td>Mot exact</td>\n",
       "      <td>qui</td>\n",
       "      <td>ESLO1_ENT_017</td>\n",
       "      <td>ESLO1_ENT_017_C</td>\n",
       "      <td>QB100</td>\n",
       "      <td>225762.0</td>\n",
       "      <td>230792.0</td>\n",
       "      <td>00:03:45</td>\n",
       "      <td>00:03:50</td>\n",
       "      <td>parce que il y en a qui qui viennent ‡ l'Ècole...</td>\n",
       "    </tr>\n",
       "    <tr>\n",
       "      <th>6</th>\n",
       "      <td>Mot exact</td>\n",
       "      <td>qui</td>\n",
       "      <td>ESLO1_ENT_017</td>\n",
       "      <td>ESLO1_ENT_017_C</td>\n",
       "      <td>QB100</td>\n",
       "      <td>272488.0</td>\n",
       "      <td>276333.0</td>\n",
       "      <td>00:04:32</td>\n",
       "      <td>00:04:36</td>\n",
       "      <td>les murs qui deviennent modernes il faut aussi...</td>\n",
       "    </tr>\n",
       "    <tr>\n",
       "      <th>7</th>\n",
       "      <td>Mot exact</td>\n",
       "      <td>qui</td>\n",
       "      <td>ESLO1_ENT_017</td>\n",
       "      <td>ESLO1_ENT_017_C</td>\n",
       "      <td>CS</td>\n",
       "      <td>297950.0</td>\n",
       "      <td>298967.0</td>\n",
       "      <td>00:04:57</td>\n",
       "      <td>00:04:58</td>\n",
       "      <td>ceux qui vont ‡ l'hÙpital</td>\n",
       "    </tr>\n",
       "    <tr>\n",
       "      <th>8</th>\n",
       "      <td>Mot exact</td>\n",
       "      <td>qui</td>\n",
       "      <td>ESLO1_ENT_017</td>\n",
       "      <td>ESLO1_ENT_017_C</td>\n",
       "      <td>QB100</td>\n",
       "      <td>316159.0</td>\n",
       "      <td>321578.0</td>\n",
       "      <td>00:05:16</td>\n",
       "      <td>00:05:21</td>\n",
       "      <td>alors l‡ y a une mentalitÈ qui est en train de...</td>\n",
       "    </tr>\n",
       "    <tr>\n",
       "      <th>9</th>\n",
       "      <td>Mot exact</td>\n",
       "      <td>qui</td>\n",
       "      <td>ESLO1_ENT_017</td>\n",
       "      <td>ESLO1_ENT_017_C</td>\n",
       "      <td>QB100</td>\n",
       "      <td>322319.0</td>\n",
       "      <td>326347.0</td>\n",
       "      <td>00:05:22</td>\n",
       "      <td>00:05:26</td>\n",
       "      <td>et qui sont vraiment de de grands de des types...</td>\n",
       "    </tr>\n",
       "  </tbody>\n",
       "</table>\n",
       "</div>"
      ],
      "text/plain": [
       "   recherche occurrence enregistrement    transcription locuteur  debut (ms)  \\\n",
       "0  Mot exact        qui  ESLO1_ENT_015  ESLO1_ENT_015_C    NS571   3257108.0   \n",
       "1  Mot exact        qui  ESLO1_ENT_015  ESLO1_ENT_015_C    NS571   3385223.0   \n",
       "2  Mot exact        qui  ESLO1_ENT_017  ESLO1_ENT_017_C    QB100     63605.0   \n",
       "3  Mot exact        qui  ESLO1_ENT_017  ESLO1_ENT_017_C    QB100     97160.0   \n",
       "4  Mot exact        qui  ESLO1_ENT_017  ESLO1_ENT_017_C    QB100    165435.0   \n",
       "5  Mot exact        qui  ESLO1_ENT_017  ESLO1_ENT_017_C    QB100    225762.0   \n",
       "6  Mot exact        qui  ESLO1_ENT_017  ESLO1_ENT_017_C    QB100    272488.0   \n",
       "7  Mot exact        qui  ESLO1_ENT_017  ESLO1_ENT_017_C       CS    297950.0   \n",
       "8  Mot exact        qui  ESLO1_ENT_017  ESLO1_ENT_017_C    QB100    316159.0   \n",
       "9  Mot exact        qui  ESLO1_ENT_017  ESLO1_ENT_017_C    QB100    322319.0   \n",
       "\n",
       "    fin (ms) debut (hh:mm:ss) fin (hh:mm:ss)  \\\n",
       "0  3287567.0         00:54:17       00:54:47   \n",
       "1  3393832.0         00:56:25       00:56:33   \n",
       "2    65356.0         00:01:03       00:01:05   \n",
       "3    98641.0         00:01:37       00:01:38   \n",
       "4   169832.0         00:02:45       00:02:49   \n",
       "5   230792.0         00:03:45       00:03:50   \n",
       "6   276333.0         00:04:32       00:04:36   \n",
       "7   298967.0         00:04:57       00:04:58   \n",
       "8   321578.0         00:05:16       00:05:21   \n",
       "9   326347.0         00:05:22       00:05:26   \n",
       "\n",
       "                                             segment  \n",
       "0  euh c'est s˚r que un Ètranger qui vient en Fra...  \n",
       "1  ah ben une personne avec qui je travaille c'es...  \n",
       "2      pas toujours trËs bien qui viennent y habiter  \n",
       "3               trËs bien qui habitent la rue hein ?  \n",
       "4  puÈriculture qui ont un an d'Ètudes on les emp...  \n",
       "5  parce que il y en a qui qui viennent ‡ l'Ècole...  \n",
       "6  les murs qui deviennent modernes il faut aussi...  \n",
       "7                          ceux qui vont ‡ l'hÙpital  \n",
       "8  alors l‡ y a une mentalitÈ qui est en train de...  \n",
       "9  et qui sont vraiment de de grands de des types...  "
      ]
     },
     "execution_count": 3,
     "metadata": {},
     "output_type": "execute_result"
    }
   ],
   "source": [
    "# parses the sheet into a data frame to make sure it's being read in correctly\n",
    "\n",
    "data_frame = data.parse('rechercherlexique')\n",
    "data_frame.info\n",
    "\n",
    "# only shows the first 10 rows\n",
    "data_frame.head(10)"
   ]
  },
  {
   "cell_type": "code",
   "execution_count": 4,
   "metadata": {},
   "outputs": [
    {
     "name": "stdout",
     "output_type": "stream",
     "text": [
      "Total rows: 41155\n",
      "Total columns: 10\n"
     ]
    }
   ],
   "source": [
    "# reads in the spreadsheet data\n",
    "\n",
    "workbook = xlrd.open_workbook('qui.xls')\n",
    "sheet = workbook.sheet_by_name('rechercherlexique')\n",
    "\n",
    "# gets the first sheet\n",
    "sheet_1 = workbook.sheet_by_index(0)\n",
    "\n",
    "row_count = sheet.nrows\n",
    "col_count = sheet.ncols\n",
    "print(f'Total rows: {row_count}\\nTotal columns: {col_count}')"
   ]
  },
  {
   "cell_type": "code",
   "execution_count": 5,
   "metadata": {},
   "outputs": [
    {
     "name": "stdout",
     "output_type": "stream",
     "text": [
      "We extracted 3161 rows.\n",
      "The selected rows are stored in a list of lists.\n"
     ]
    }
   ],
   "source": [
    "# iterates through columns to find those with a '?'\n",
    "# creates a list of selected rows (easier to convert to .xlsx than a dictionary)\n",
    "\n",
    "# initialises list of lists\n",
    "selected_rows = []\n",
    "\n",
    "for rx in range(sheet.nrows): # rx is an int, row is a list \n",
    "    row = sheet.row(rx)\n",
    "    text = row[9] # index 9 is where text of interest is stored, returns a cell\n",
    "    text_string = text.value # converts cell into str\n",
    "\n",
    "    # initialises list that will contain our data\n",
    "    data_list = []\n",
    "\n",
    "    # creates list that stores selected rows\n",
    "    if '?' in text_string:\n",
    "        data_list.append(row[0].value)\n",
    "        data_list.append(row[1].value)\n",
    "        data_list.append(row[2].value)\n",
    "        data_list.append(row[3].value)\n",
    "        data_list.append(row[4].value)\n",
    "        data_list.append(row[5].value)\n",
    "        data_list.append(row[6].value)\n",
    "        data_list.append(row[7].value)\n",
    "        data_list.append(row[8].value)\n",
    "        data_list.append(row[9].value)\n",
    "\n",
    "        selected_rows.append(data_list)\n",
    "    \n",
    "# prints extracted rows\n",
    "print(f'We extracted {len(selected_rows)} rows.')\n",
    "print(f'The selected rows are stored in a list of lists.')"
   ]
  },
  {
   "cell_type": "markdown",
   "metadata": {},
   "source": [
    "Now that we have the selected rows stored into embedded lists, we're going to export our these into a new .xlsx file using pandas."
   ]
  },
  {
   "cell_type": "code",
   "execution_count": 6,
   "metadata": {},
   "outputs": [
    {
     "name": "stdout",
     "output_type": "stream",
     "text": [
      "Dictionary converted into excel...\n"
     ]
    }
   ],
   "source": [
    "# creates spreadsheet using each nested list as a row\n",
    "\n",
    "df = pd.DataFrame(data=selected_rows)\n",
    "\n",
    "# converts into excel\n",
    "df.to_excel(\"selected_rows.xlsx\", index=False)\n",
    "\n",
    "print(\"Dictionary converted into excel...\")"
   ]
  }
 ],
 "metadata": {
  "interpreter": {
   "hash": "c7b2d02c07dc615871e2bd1a1246b89714f2151eeb8e00fcd4ada13785228d85"
  },
  "kernelspec": {
   "display_name": "Python 3.9.13 ('base')",
   "language": "python",
   "name": "python3"
  },
  "language_info": {
   "codemirror_mode": {
    "name": "ipython",
    "version": 3
   },
   "file_extension": ".py",
   "mimetype": "text/x-python",
   "name": "python",
   "nbconvert_exporter": "python",
   "pygments_lexer": "ipython3",
   "version": "3.9.13"
  },
  "orig_nbformat": 4
 },
 "nbformat": 4,
 "nbformat_minor": 2
}
