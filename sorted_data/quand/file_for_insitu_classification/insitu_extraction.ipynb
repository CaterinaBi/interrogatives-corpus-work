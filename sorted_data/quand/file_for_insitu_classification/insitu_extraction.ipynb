{
 "cells": [
  {
   "cell_type": "markdown",
   "metadata": {},
   "source": [
    "In this file, I'll write some code to extract all instances of in situ questions from Sheet 1 of the `all_rows_classified.xls` file. My collegue Lena Baunaz will then classify them manually. "
   ]
  },
  {
   "cell_type": "code",
   "execution_count": 1,
   "metadata": {},
   "outputs": [],
   "source": [
    "# imports\n",
    "\n",
    "import pandas as pd\n",
    "import xlrd\n",
    "from openpyxl import Workbook"
   ]
  },
  {
   "cell_type": "code",
   "execution_count": 7,
   "metadata": {},
   "outputs": [
    {
     "name": "stdout",
     "output_type": "stream",
     "text": [
      "['quand', 'Sheet1']\n"
     ]
    }
   ],
   "source": [
    "# reads in the spreadsheet data\n",
    "\n",
    "workbook = xlrd.open_workbook('quand_interrogatives_GLOBAL.xls')\n",
    "data = pd.ExcelFile(workbook)\n",
    "\n",
    " # returns the all the sheet names within the excel file\n",
    "print(data.sheet_names)"
   ]
  },
  {
   "cell_type": "code",
   "execution_count": 8,
   "metadata": {},
   "outputs": [
    {
     "name": "stdout",
     "output_type": "stream",
     "text": [
      "Total rows: 357\n",
      "Total columns: 13\n"
     ]
    }
   ],
   "source": [
    "sheet = workbook.sheet_by_name('quand')\n",
    "\n",
    "row_count = sheet.nrows\n",
    "col_count = sheet.ncols\n",
    "\n",
    "# prints metrics\n",
    "print(f'Total rows: {row_count}\\nTotal columns: {col_count}')"
   ]
  },
  {
   "cell_type": "code",
   "execution_count": 10,
   "metadata": {},
   "outputs": [
    {
     "name": "stdout",
     "output_type": "stream",
     "text": [
      "We extracted 68 rows of in situ non-cleft questions.\n",
      "We extracted 62 rows of in situ cleft questions.\n",
      "The selected rows are stored in a list of lists.\n",
      "The excluded occurrences are the following:\n",
      "[['Mot exact', 'quand', 'IN', 'CLEFT', 'MONO', \"et la dernière fois que vous avez écrit une lettre c'était quand ?\", 'ESLO1_ENT_013', 'ESLO1_ENT_013_C', 'BV', 2823872.0], ['Mot exact', 'quand', 'IN', 'CLEFT', 'MONO', \"c'ét- c'était quand la dernière fois que vous l'avez regardé ?\", 'ESLO1_ENT_014', 'ESLO1_ENT_014_C', 'MB', 2069343.0], ['Mot exact', 'quand', 'IN', 'CLEFT', 'MONO', \"la dernière fois que vous avez écrit quelque chose n'importe quoi c'était quand ?\", 'ESLO1_ENT_017', 'ESLO1_ENT_017_C', 'CS', 4246607.0], ['Mot exact', 'quand', 'IN', 'CLEFT', 'MONO', \"par exemple la dernière fois c'était quand ?\", 'ESLO1_ENT_042', 'ESLO1_ENT_042_C', 'BV', 1956556.0], ['Mot exact', 'quand', 'IN', 'CLEFT', 'MONO', \"c'était quand ?\", 'ESLO1_ENT_042', 'ESLO1_ENT_042_C', 'BV', 3752215.0], ['Mot exact', 'quand', 'IN', 'CLEFT', 'MONO', \"la dernière fois que vous avez eu besoin d'écrire pour votre travail euh c'est c'est quand c'est aujourd'hui finalement ?\", 'ESLO1_ENT_047', 'ESLO1_ENT_047_C', 'CS', 2776777.0], ['Mot exact', 'quand', 'IN', 'CLEFT', 'MONO', \"euh quand est-ce que vous l'avez ach- euh la première fois que vous avez eu un stylo c'était quand ?\", 'ESLO1_ENT_051', 'ESLO1_ENT_051_C', 'BV', 3868863.0], ['Mot exact', 'quand', 'IN', 'CLEFT', 'MONO', \"la dernière fois que vous avez écrit c'était quand ?\", 'ESLO1_ENT_051', 'ESLO1_ENT_051_C', 'BV', 3957706.0], ['Mot exact', 'quand', 'IN', 'CLEFT', 'MONO', \"vous avez écrit une lettre par exemple c'était quand ?\", 'ESLO1_ENT_051', 'ESLO1_ENT_051_C', 'BV', 4354900.0], ['Mot exact', 'quand', 'IN', 'CLEFT', 'MONO', \"jamais la dernière fois que vous y avez été c'était quand ?\", 'ESLO1_ENT_051', 'ESLO1_ENT_051_C', 'BV', 5653446.0], ['Mot exact', 'quand', 'IN', 'CLEFT', 'MONO', \"et c'était quand ça ?\", 'ESLO1_ENT_051', 'ESLO1_ENT_051_C', 'BV', 5826221.0], ['Mot exact', 'quand', 'IN', 'CLEFT', 'MONO', \"la dernière fois que vous avez été dans un concert c'était quand ?\", 'ESLO1_ENT_051', 'ESLO1_ENT_051_C', 'BV', 5899598.0], ['Mot exact', 'quand', 'IN', 'CLEFT', 'MONO', \"la dernière fois que vous avez écrit c'était quand ?\", 'ESLO1_ENT_058', 'ESLO1_ENT_058_C', 'BV', 2418871.0], ['Mot exact', 'quand', 'IN', 'CLEFT', 'MONO', \"la dernière fois par exemple c'était quand ?\", 'ESLO1_ENT_058', 'ESLO1_ENT_058_C', 'BV', 4249732.0], ['Mot exact', 'quand', 'IN', 'CLEFT', 'MONO', \"la dernière fois c'était quand ?\", 'ESLO1_ENT_058', 'ESLO1_ENT_058_C', 'BV', 4290579.0], ['Mot exact', 'quand', 'IN', 'CLEFT', 'MONO', \"c'était quand ?\", 'ESLO1_ENT_059', 'ESLO1_ENT_059_C', 'DP50', 655640.0], ['Mot exact', 'quand', 'IN', 'CLEFT', 'MONO', \"la dernière fois par exemple c'était quand ?\", 'ESLO1_ENT_060', 'ESLO1_ENT_060_C', 'BV', 2541042.0], ['Mot exact', 'quand', 'IN', 'CLEFT', 'MONO', \"c'est quand ça ?\", 'ESLO1_ENT_060', 'ESLO1_ENT_060_C', 'BV', 2559768.0], ['Mot exact', 'quand', 'IN', 'CLEFT', 'MONO', \"et le premier stylo que vous avez eu c'était quand ?\", 'ESLO1_ENT_060', 'ESLO1_ENT_060_C', 'BV', 3405907.0], ['Mot exact', 'quand', 'IN', 'CLEFT', 'MONO', \"la dernière lettre que vous avez faite c'était quand ?\", 'ESLO1_ENT_060', 'ESLO1_ENT_060_C', 'BV', 3463881.0], ['Mot exact', 'quand', 'IN', 'CLEFT', 'MONO', \"la dernière fois c'était quand ?\", 'ESLO1_ENT_060', 'ESLO1_ENT_060_C', 'BV', 4226050.0], ['Mot exact', 'quand', 'IN', 'CLEFT', 'MONO', \"la dernière fois c'était quand ?\", 'ESLO1_ENT_060', 'ESLO1_ENT_060_C', 'BV', 4425183.0], ['Mot exact', 'quand', 'IN', 'CLEFT', 'MONO', \"c'était quand ?\", 'ESLO1_ENT_073', 'ESLO1_ENT_073_C', 'BV', 2032095.0], ['Mot exact', 'quand', 'IN', 'CLEFT', 'MONO', \"et la dernière fois c'était quand ?\", 'ESLO1_ENT_073', 'ESLO1_ENT_073_C', 'BV', 2043223.0], ['Mot exact', 'quand', 'IN', 'CLEFT', 'MONO', \"la dernière fois c'était quand ?\", 'ESLO1_ENT_073', 'ESLO1_ENT_073_C', 'BV', 3830600.0], ['Mot exact', 'quand', 'IN', 'CLEFT', 'MONO', \"la dernière fois c'était quand ?\", 'ESLO1_ENT_073', 'ESLO1_ENT_073_C', 'BV', 3868561.0], ['Mot exact', 'quand', 'IN', 'CLEFT', 'MONO', \"mais c'est c'était quand la dernière fois ?\", 'ESLO1_ENT_073', 'ESLO1_ENT_073_C', 'BV', 3980424.0], ['Mot exact', 'quand', 'IN', 'CLEFT', 'MONO', \"que vous avez été au thé‚tre par exemple à Orléans c'était quand ?\", 'ESLO1_ENT_091', 'ESLO1_ENT_091_C', 'BV', 368815.0], ['Mot exact', 'quand', 'IN', 'CLEFT', 'MONO', \"c'était quand ?\", 'ESLO1_ENT_091', 'ESLO1_ENT_091_C', 'BV', 3255822.0], ['Mot exact', 'quand', 'IN', 'CLEFT', 'MONO', \"la dernière fois que vous avez écrit c'était quand ?\", 'ESLO1_ENT_096', 'ESLO1_ENT_096_C', 'BV', 1934440.0], ['Mot exact', 'quand', 'IN', 'CLEFT', 'MONO', \"et la dernière fois que vous avez écrit c'était quand ?\", 'ESLO1_ENT_099', 'ESLO1_ENT_099_C', 'BV', 3065731.0], ['Mot exact', 'quand', 'IN', 'CLEFT', 'MONO', \"c'était quand ?\", 'ESLO1_ENT_101', 'ESLO1_ENT_101_C', 'CS', 4955918.0], ['Mot exact', 'quand', 'IN', 'CLEFT', 'MONO', \"la dernière fois que vous l'avez regardé vous c'était quand ?\", 'ESLO1_ENT_153', 'ESLO1_ENT_153_C', 'BV', 4608418.0], ['Mot exact', 'quand', 'IN', 'CLEFT', 'MONO', \"la dernière fois par exemple que vous l'avez regardé c'était quand ?\", 'ESLO1_ENT_155', 'ESLO1_ENT_155_C', 'BV', 4428126.0], ['Mot exact', 'quand', 'IN', 'CLEFT', 'MONO', \"la dernière fois que vous l'avez regardé c'était quand ?\", 'ESLO1_ENT_164', 'ESLO1_ENT_164_C', 'BV', 1143648.0], ['Mot exact', 'quand', 'IN', 'CLEFT', 'MONO', \"c'était quand ?\", 'ESLO1_ENT_164', 'ESLO1_ENT_164_C', 'BV', 2987526.0], ['Mot exact', 'quand', 'IN', 'CLEFT', 'MONO', \"la dernière fois que vous y avez été par exemple c'était quand ?\", 'ESLO1_ENT_164', 'ESLO1_ENT_164_C', 'BV', 5488193.0], ['Mot exact', 'quand', 'IN', 'CLEFT', 'MONO', \"c'était quand ça ?\", 'ESLO1_ENT_164', 'ESLO1_ENT_164_C', 'BV', 5509788.0], ['Mot exact', 'quand', 'IN', 'CLEFT', 'MONO', \"c'était quand c'était euh il y a un an à peu près ?\", 'ESLO1_ENTCONT_219', 'ESLO1_ENTCONT_219_C', 'LD386FEM', 1222566.0], ['Mot exact', 'quand', 'IN', 'CLEFT', 'MONO', \"et alors c'est quand ce feu ?\", 'ESLO1_ENTCLO_264', 'ESLO1_ENTCLO_264_C', '407PERSFEM', 176011.0], ['Mot exact', 'depuis quand', 'IN', 'CLEFT', 'MONO', \"que j'aimerais vous poser monsieur c'est depuis quand vous êtes à Orléans ?\", 'ESLO1_INTPERS_422', 'ESLO1_INTPERS_422_C', 'PB', 3346.0], ['Mot exact', 'quand', 'IN', 'CLEFT', 'MONO', \"c'était quand ça ?\", 'ESLO1_INTPERS_462', 'ESLO1_INTPERS_462_C', 'BV', 7388535.0], ['Mot exact', 'quand', 'IN', 'CLEFT', 'MONO', \"c'était quand c'était en septembre ?\", 'ESLO1_CONF_505', 'ESLO1_CONF_505_C', '505LOC2', 3462513.0], ['Mot exact', 'quand', 'IN', 'CLEFT', 'MONO', \"non c'est différent non c'est autre chose ? c'est quand ?\", 'ESLO2_ENT_1015', 'ESLO2_ENT_1015_C', 'ch_AC7', 2147104.0], ['Mot exact', 'quand', 'IN', 'CLEFT', 'MONO', \"c'est quand ?\", 'ESLO2_ENT_1026', 'ESLO2_ENT_1026_C', 'ch_PP6', 4407926.0], ['Mot exact', 'quand', 'IN', 'CLEFT', 'MONO', \"mais ceci dit euh bah hier soir j'ai regardé non c'était quand ?\", 'ESLO2_ENT_1049', 'ESLO2_ENT_1049_C', 'AU49', 4220270.0], ['Mot exact', 'depuis quand', 'IN', 'CLEFT', 'BI', \"ma première s- question est est très simple c'est depuis quand vous habitez euh dans cette maison-là justement ?\", 'ESLO2_ENT_1055', 'ESLO2_ENT_1055_C', 'ch_OB1', 1664.0], ['Mot exact', 'quand', 'IN', 'CLEFT', 'MONO', \"ah ouais ah oui c'était quand ça ?\", 'ESLO2_ENT_1057', 'ESLO2_ENT_1057_C', 'ch_LA11', 1043970.0], ['Mot exact', 'pour quand', 'IN', 'CLEFT', 'MONO', \"c'est pour quand d'ailleurs ?\", 'ESLO2_ENT_1082', 'ESLO2_ENT_1082_C', 'MX953', 817958.0], ['Mot exact', 'quand', 'IN', 'CLEFT', 'MONO', \"donc ça c'était quand ?\", 'ESLO2_ENT_1082', 'ESLO2_ENT_1082_C', 'ch_MP10', 1304873.0], ['Mot exact', 'quand', 'IN', 'CLEFT', 'MONO', \"ouais c'était quand ?\", 'ESLO2_ENTJEUN_1234', 'ESLO2_ENTJEUN_1234_C', 'WT075', 1383615.0], ['Mot exact', 'quand', 'IN', 'CLEFT', 'MONO', \"c'est quand c'est le week-end dernier ?\", 'ESLO2_ENTJEUN_1234', 'ESLO2_ENTJEUN_1234_C', 'WZ853', 2117688.0], ['Mot exact', 'quand', 'IN', 'CLEFT', 'MONO', \"c'était quand ?\", 'ESLO2_ENTJEUN_1234', 'ESLO2_ENTJEUN_1234_C', 'WZ853', 2167118.0], ['Mot exact', 'quand', 'IN', 'CLEFT', 'BI', \"et c'est quand que tu vas me le redonner ?\", 'ESLO2_REPAS_1257', 'ESLO2_REPAS_1257_C', 'CT763FIL', 259508.0], ['Mot exact', 'quand', 'IN', 'CLEFT', 'BI', \"prochaine fois c'est quand que il faut y aller ?\", 'ESLO2_REPAS_1267', 'ESLO2_REPAS_1267_C', 'GG675PER', 188761.0], ['Mot exact', 'quand', 'IN', 'CLEFT', 'MONO', \"c'est quand ?\", 'ESLO2_REPAS_1267', 'ESLO2_REPAS_1267_C', 'GG675', 1639256.0], ['Mot exact', 'quand', 'IN', 'CLEFT', 'BI', \"[i:noise:instantaneous] hé c'est quand qu'il est né le petit enfin de Pascal ?\", 'ESLO2_REPAS_1267', 'ESLO2_REPAS_1267_C', 'GG675', 1730578.0], ['Mot exact', 'quand', 'IN', 'CLEFT', 'MONO', \"eh ouais c'est quand ton anniv- ?\", 'ESLO2_ECOLE_1285', 'ESLO2_ECOLE_1285_C', 'ELEV_CM2', 2552370.0], ['Mot exact', 'quand', 'IN', 'CLEFT', 'MONO', \"hein c'est quand ton anniv- Greg ?\", 'ESLO2_ECOLE_1285', 'ESLO2_ECOLE_1285_C', 'ELEV_CM2', 2564805.0], ['Mot exact', 'quand', 'IN', 'CLEFT', 'MONO', \"et toi c'est quand ?\", 'ESLO2_ECOLE_1285', 'ESLO2_ECOLE_1285_C', 'ELEV_CM2', 2573508.0], ['Mot exact', 'quand', 'IN', 'CLEFT', 'MONO', \"euh c'était quand ?\", 'ESLO2_ENT_1329', 'ESLO2_ENT_1329_C', 'ch_OB1', 763795.0], ['Mot exact', 'quand', 'IN', 'CLEFT', 'MONO', \"c'était quand la meilleure période ?\", 'ESLO2_ENT_1329', 'ESLO2_ENT_1329_C', 'ch_OB1', 3492502.0]]\n"
     ]
    }
   ],
   "source": [
    "# extracts the in situ data\n",
    "\n",
    "# initialises the list that will contain all selected rows\n",
    "selected_data = [] # in situ SV\n",
    "selected_data_clefts = [] # in situ clefts\n",
    "\n",
    "# iterates through the spreadsheet to extract the data we need\n",
    "for rx in range(sheet.nrows): # rx is an int, row is a list \n",
    "    row = sheet.row(rx)\n",
    "\n",
    "    classification = row[2] # index 2 is where text of interest is stored, returns a cell\n",
    "    text_string = classification.value # converts cell into str\n",
    "\n",
    "    interrogative = row[3]\n",
    "    interr_string = interrogative.value\n",
    "\n",
    "    # initialises list that will contain our data\n",
    "    # one list is created during each iteration\n",
    "    data_list = []\n",
    "    cleft_list = []\n",
    "\n",
    "    # creates list that stores selected rows\n",
    "    if text_string == 'IN':\n",
    "        # excludes strings classified as clefts\n",
    "        if interr_string == 'DECLA':\n",
    "            data_list.append(row[0].value)\n",
    "            data_list.append(row[1].value)\n",
    "            data_list.append(row[2].value)\n",
    "            data_list.append(row[3].value)\n",
    "            data_list.append(row[4].value)\n",
    "            data_list.append(row[5].value)\n",
    "            data_list.append(row[6].value)\n",
    "            data_list.append(row[7].value)\n",
    "            data_list.append(row[8].value)\n",
    "            data_list.append(row[9].value)\n",
    "\n",
    "            selected_data.append(data_list)\n",
    "\n",
    "        elif interr_string == 'CLEFT': \n",
    "            cleft_list.append(row[0].value)\n",
    "            cleft_list.append(row[1].value)\n",
    "            cleft_list.append(row[2].value)\n",
    "            cleft_list.append(row[3].value)\n",
    "            cleft_list.append(row[4].value)\n",
    "            cleft_list.append(row[5].value)\n",
    "            cleft_list.append(row[6].value)\n",
    "            cleft_list.append(row[7].value)\n",
    "            cleft_list.append(row[8].value)\n",
    "            cleft_list.append(row[9].value)\n",
    "\n",
    "            selected_data_clefts.append(cleft_list)\n",
    "    \n",
    "# prints extracted rows\n",
    "print(f'We extracted {len(selected_data)} rows of in situ non-cleft questions.')\n",
    "print(f'We extracted {len(selected_data_clefts)} rows of in situ cleft questions.')\n",
    "print(f'The selected rows are stored in a list of lists.')\n",
    "\n",
    "# we are going to exclude these from our analysis for now\n",
    "print('The excluded occurrences are the following:')\n",
    "print(selected_data_clefts)"
   ]
  },
  {
   "cell_type": "code",
   "execution_count": 11,
   "metadata": {},
   "outputs": [
    {
     "name": "stdout",
     "output_type": "stream",
     "text": [
      "Dictionary converted into excel...\n"
     ]
    }
   ],
   "source": [
    "# creates spreadsheet using each nested list as a row\n",
    "\n",
    "df = pd.DataFrame(data=selected_data) # only adds non-clefts to the new file\n",
    "\n",
    "# converts into excel\n",
    "df.to_excel(\"quand_insitu.xlsx\", index=False)\n",
    "\n",
    "print(\"Dictionary converted into excel...\")"
   ]
  }
 ],
 "metadata": {
  "interpreter": {
   "hash": "c7b2d02c07dc615871e2bd1a1246b89714f2151eeb8e00fcd4ada13785228d85"
  },
  "kernelspec": {
   "display_name": "Python 3.9.13 ('base')",
   "language": "python",
   "name": "python3"
  },
  "language_info": {
   "codemirror_mode": {
    "name": "ipython",
    "version": 3
   },
   "file_extension": ".py",
   "mimetype": "text/x-python",
   "name": "python",
   "nbconvert_exporter": "python",
   "pygments_lexer": "ipython3",
   "version": "3.9.13"
  },
  "orig_nbformat": 4
 },
 "nbformat": 4,
 "nbformat_minor": 2
}
