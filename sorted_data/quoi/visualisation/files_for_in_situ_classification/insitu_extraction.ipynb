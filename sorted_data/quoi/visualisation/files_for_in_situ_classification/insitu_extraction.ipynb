{
 "cells": [
  {
   "cell_type": "markdown",
   "metadata": {},
   "source": [
    "In this file, I'll write some code to extract all instances of in situ questions from Sheet 1 of the `all_rows_classified.xls` file. My collegue Lena Baunaz will then classify them manually. "
   ]
  },
  {
   "cell_type": "code",
   "execution_count": 1,
   "metadata": {},
   "outputs": [],
   "source": [
    "# imports\n",
    "\n",
    "import pandas as pd\n",
    "import xlrd\n",
    "from openpyxl import Workbook"
   ]
  },
  {
   "cell_type": "code",
   "execution_count": 2,
   "metadata": {},
   "outputs": [
    {
     "name": "stdout",
     "output_type": "stream",
     "text": [
      "['Sheet1', 'Sheet2']\n"
     ]
    }
   ],
   "source": [
    "# reads in the spreadsheet data\n",
    "\n",
    "workbook = xlrd.open_workbook('ESLO2_quoi_all_rows_classified.xls')\n",
    "data = pd.ExcelFile(workbook)\n",
    "\n",
    " # returns the all the sheet names within the excel file\n",
    "print(data.sheet_names)"
   ]
  },
  {
   "cell_type": "code",
   "execution_count": 3,
   "metadata": {},
   "outputs": [
    {
     "name": "stdout",
     "output_type": "stream",
     "text": [
      "Total rows: 901\n",
      "Total columns: 13\n"
     ]
    }
   ],
   "source": [
    "sheet = workbook.sheet_by_name('Sheet1')\n",
    "\n",
    "row_count = sheet.nrows\n",
    "col_count = sheet.ncols\n",
    "\n",
    "# prints metrics\n",
    "print(f'Total rows: {row_count}\\nTotal columns: {col_count}')"
   ]
  },
  {
   "cell_type": "code",
   "execution_count": 4,
   "metadata": {},
   "outputs": [
    {
     "name": "stdout",
     "output_type": "stream",
     "text": [
      "We extracted 228 rows of in situ non-cleft questions.\n",
      "We extracted 137 rows of in situ cleft questions.\n",
      "The selected rows are stored in a list of lists.\n",
      "The excluded occurrences are the following:\n",
      "[['Mot exact', 'quoiS', 'in situ', 'cleft', 'mono', \"c'est quoi exactement ?\", 'ESLO1_ENT_002', 'ESLO1_ENT_002_C', 'JR', 2823321.0], ['Mot exact', 'quoiS', 'in situ', 'cleft', 'mono', \"mais c'est quoi au juste comme technique ?\", 'ESLO1_ENT_002', 'ESLO1_ENT_002_C', 'JR', 3660287.0], ['Mot exact', 'quoiDO', 'in situ', 'cleft', 'mono', \"c'est quoi au juste ce que vous faites au en ?\", 'ESLO1_ENT_007', 'ESLO1_ENT_007_C', 'RC', 105887.0], ['Mot exact', 'quoiS', 'in situ', 'cleft', 'mono', \"c'est quoi donc ça ?\", 'ESLO1_ENT_008', 'ESLO1_ENT_008_C', 'GJ131', 1467886.0], ['Mot exact', 'quoiS', 'in situ', 'cleft', 'mono', \"c'est quoi donc ça ?\", 'ESLO1_ENT_008', 'ESLO1_ENT_008_C', 'GJ131', 1470793.0], ['Mot exact', 'quoiS', 'in situ', 'cleft', 'mono', \"au fait le le TVA c'est quoi au juste ?\", 'ESLO1_ENT_011', 'ESLO1_ENT_011_C', 'JK', 1554371.0], ['Mot exact', 'quoiS', 'in situ', 'cleft', 'mono', \"et c'est quoi au juste ? c'est une sorte de redistribution des de terres\", 'ESLO1_ENT_011', 'ESLO1_ENT_011_C', 'JW325', 2162156.0], ['Mot exact', 'quoiS', 'in situ', 'cleft', 'mono', \"mais alors le le haut du pavé enfin à Orléans c'est quoi exactement est-ce que c'est une ancienne aristocratie ?\", 'ESLO1_ENT_018', 'ESLO1_ENT_018_C', 'BV', 365109.0], ['Mot exact', 'quoiDO', 'in situ', 'cleft', 'bi', \"c'était quoi que vous cherchiez ?\", 'ESLO1_ENT_025', 'ESLO1_ENT_025_C', 'HM', 2855203.0], ['Mot exact', 'quoiIO', 'in situ', 'cleft', 'mono', \"et c'était pour quoi ?\", 'ESLO1_ENT_027', 'ESLO1_ENT_027_C', 'HM', 2349001.0], ['Mot exact', 'quoiIO', 'in situ', 'cleft', 'mono', \"et c'était pour quoi ?\", 'ESLO1_ENT_028', 'ESLO1_ENT_028_C', 'HM', 2055096.0], ['Mot exact', 'quoi', 'in situ', 'cleft', 'mono', \"et c'est quoi s'il vous plaît ?\", 'ESLO1_ENT_029', 'ESLO1_ENT_029_C', 'JSM', 4842034.0], ['Mot exact', 'quoiIO', 'in situ', 'cleft', 'mono', \"et c'était pour quoi ?\", 'ESLO1_ENT_030', 'ESLO1_ENT_030_C', 'JSM', 3815221.0], ['Mot exact', 'quoi', 'in situ', 'cleft', 'mono', \"enfin bourgeois c'est c'est quoi vous euh ?\", 'ESLO1_ENT_041', 'ESLO1_ENT_041_C', 'BB733', 844335.0], ['Mot exact', 'quoiIO', 'in situ', 'cleft', 'mono', \"et c'était pour quoi ?\", 'ESLO1_ENT_044', 'ESLO1_ENT_044_C', 'OU', 1554348.0], ['Mot exact', 'quoiS', 'in situ', 'cleft', 'mono', \"c'est quoi ça ?\", 'ESLO1_ENT_050', 'ESLO1_ENT_050_C', 'CI58', 1059535.0], ['Mot exact', 'quoiIO', 'in situ', 'cleft', 'mono', \"et c'était pour quoi vous avez dit ?\", 'ESLO1_ENT_050', 'ESLO1_ENT_050_C', 'DP', 1878050.0], ['Mot exact', 'quoi', 'in situ', 'cleft', 'mono', \"pour vous un bourgeois c'est quoi ?\", 'ESLO1_ENT_051', 'ESLO1_ENT_051_C', 'BV', 2734409.0], ['Mot exact', 'quoi', 'in situ', 'cleft', 'mono', \"le Tirlipot c'est quoi ?\", 'ESLO1_ENT_051', 'ESLO1_ENT_051_C', 'BV', 3084939.0], ['Mot exact', 'quoiIO', 'in situ', 'cleft', 'mono', \"et c'était la dernière fois c'était pour quoi ?\", 'ESLO1_ENT_051', 'ESLO1_ENT_051_C', 'BV', 3976408.0], ['Mot exact', 'quoiIO', 'in situ', 'cleft', 'mono', \"en général c'est pour quoi pour le travail ?\", 'ESLO1_ENT_051', 'ESLO1_ENT_051_C', 'BV', 3993416.0], ['Mot exact', 'quoiS', 'in situ', 'cleft', 'mono', \"c'est quoi c'est tenu par des religieuses ça ?\", 'ESLO1_ENT_051', 'ESLO1_ENT_051_C', 'BV', 5313087.0], ['Mot exact', 'quoi', 'in situ', 'cleft', 'mono', \"et c'était quoi ?\", 'ESLO1_ENT_055', 'ESLO1_ENT_055_C', 'CS', 2497517.0], ['Mot exact', 'quoi', 'in situ', 'cleft', 'mono', \"et euh c'est quoi comme instrument ?\", 'ESLO1_ENT_056', 'ESLO1_ENT_056_C', 'DP', 3632326.0], ['Mot exact', 'quoi', 'in situ', 'cleft', 'mono', \"oui et en général c'est quoi ?\", 'ESLO1_ENT_058', 'ESLO1_ENT_058_C', 'BV', 2338662.0], ['Mot exact', 'quoiS', 'in situ', 'cleft', 'mono', \"terminale D c'est quoi ça c'est ?\", 'ESLO1_ENT_058', 'ESLO1_ENT_058_C', 'BV', 3745440.0], ['Mot exact', 'quoi', 'in situ', 'cleft', 'mono', \"la dernière fois par exemple c'était quoi ?\", 'ESLO1_ENT_058', 'ESLO1_ENT_058_C', 'BV', 4088674.0], ['Mot exact', 'quoiS', 'in situ', 'cleft', 'mono', \"c'était quoi comme encyclopédie ?\", 'ESLO1_ENT_060', 'ESLO1_ENT_060_C', 'BV', 2451048.0], ['Mot exact', 'quoiS', 'in situ', 'cleft', 'mono', \"enfin la la rue des Bouchers c'était quoi ?\", 'ESLO1_ENT_061', 'ESLO1_ENT_061_C', 'JR', 2220296.0], ['Mot exact', 'quoiIO', 'in situ', 'cleft', 'mono', \"et c'est surtout pour quoi à votre avis ?\", 'ESLO1_ENT_062', 'ESLO1_ENT_062_C', 'BV', 4051570.0], ['Mot exact', 'quoi', 'in situ', 'cleft', 'mono', \"c'est quoi c'est les méthodes c'est la discipline c'est ?\", 'ESLO1_ENT_063', 'ESLO1_ENT_063_C', 'PB', 1718375.0], ['Mot exact', 'quoi', 'in situ', 'cleft', 'mono', \"c'est quoi ?\", 'ESLO1_ENT_065', 'ESLO1_ENT_065_C', 'RC', 1630957.0], ['Mot exact', 'quoiIO', 'in situ', 'cleft', 'mono', \"c'était pour quoi ?\", 'ESLO1_ENT_065', 'ESLO1_ENT_065_C', 'RC', 1694762.0], ['Mot exact', 'quoiIO', 'in situ', 'cleft', 'mono', \"c'était pour quoi ?\", 'ESLO1_ENT_067', 'ESLO1_ENT_067_C', 'RC', 2231988.0], ['Mot exact', 'quoiIO', 'in situ', 'cleft', 'mono', \"et c'était pour quoi ?\", 'ESLO1_ENT_068', 'ESLO1_ENT_068_C', 'OU', 1762631.0], ['Mot exact', 'quoiIO', 'in situ', 'cleft', 'mono', \"et en général c'est pour quoi ?\", 'ESLO1_ENT_073', 'ESLO1_ENT_073_C', 'BV', 2537208.0], ['Mot exact', 'quoiIO', 'in situ', 'cleft', 'mono', \"quand vous faites un brouillon c'est pour quoi ?\", 'ESLO1_ENT_073', 'ESLO1_ENT_073_C', 'BV', 2706414.0], ['Mot exact', 'quoiS', 'in situ', 'cleft', 'mono', \"c'est quoi ça ?\", 'ESLO1_ENT_073', 'ESLO1_ENT_073_C', 'BV', 3489359.0], ['Mot exact', 'quoiS', 'in situ', 'cleft', 'mono', \"c'est quoi ça staffeur ?\", 'ESLO1_ENT_073', 'ESLO1_ENT_073_C', 'BV', 3491625.0], ['Mot exact', 'quoiS', 'in situ', 'cleft', 'mono', \"c'est c'est quoi comme commerce ?\", 'ESLO1_ENT_075', 'ESLO1_ENT_075_C', 'JR', 379966.0], ['Mot exact', 'quoi', 'in situ', 'cleft', 'mono', \"c'est quoi ça ?\", 'ESLO1_ENT_077', 'ESLO1_ENT_077_C', 'BV', 701824.0], ['Mot exact', 'quoiIO', 'in situ', 'cleft', 'mono', \"et si c'est pas in- trop indiscret c'était pour quoi ?\", 'ESLO1_ENT_079', 'ESLO1_ENT_079_C', 'JSM', 1609075.0], ['Mot exact', 'quoiIO', 'in situ', 'cleft', 'mono', \"c'était pour quoi ?\", 'ESLO1_ENT_082', 'ESLO1_ENT_082_C', 'RC', 2645665.0], ['Mot exact', 'quoiIO', 'in situ', 'cleft', 'mono', \"et c'était pour quoi ?\", 'ESLO1_ENT_083', 'ESLO1_ENT_083_C', 'JSM', 2513759.0], ['Mot exact', 'quoiS', 'in situ', 'cleft', 'mono', \"la votre question c'était quoi déjà ?\", 'ESLO1_ENT_084', 'ESLO1_ENT_084_C', 'IU288', 2109735.0], ['Mot exact', 'quoiS', 'in situ', 'cleft', 'mono', \"et le chauffage urbain c'est quoi ?\", 'ESLO1_ENT_086', 'ESLO1_ENT_086_C', 'JR', 865778.0], ['Mot exact', 'quoiS', 'in situ', 'cleft', 'mono', \"c'est quoi monsieur ?\", 'ESLO1_ENT_087', 'ESLO1_ENT_087_C', 'RC', 594780.0], ['Mot exact', 'quoiIO', 'in situ', 'cleft', 'mono', \"c'était pour quoi ?\", 'ESLO1_ENT_087', 'ESLO1_ENT_087_C', 'RC', 2354616.0], ['Mot exact', 'quoi', 'in situ', 'cleft', 'mono', \"c'est quoi ?\", 'ESLO1_ENT_089', 'ESLO1_ENT_089_C', 'JR', 3439308.0], ['Mot exact', 'quoiS', 'in situ', 'cleft', 'mono', \"c'est quoi un stylo bille ?\", 'ESLO1_ENT_090', 'ESLO1_ENT_090_C', 'DP', 3120068.0], ['Mot exact', 'quoi', 'in situ', 'cleft', 'mono', \"c'est quoi exactement ?\", 'ESLO1_ENT_090', 'ESLO1_ENT_090_C', 'DP', 3795855.0], ['Mot exact', 'quoi', 'in situ', 'cleft', 'mono', \"c'était quoi ?\", 'ESLO1_ENT_091', 'ESLO1_ENT_091_C', 'BV', 2632046.0], ['Mot exact', 'quoiIO', 'in situ', 'cleft', 'mono', \"c'était pour quoi madame ?\", 'ESLO1_ENT_092', 'ESLO1_ENT_092_C', 'PB', 6885679.0], ['Mot exact', 'quoi', 'in situ', 'cleft', 'mono', \"c'était quoi ?\", 'ESLO1_ENT_093', 'ESLO1_ENT_093_C', 'PB', 2487614.0], ['Mot exact', 'quoi', 'in situ', 'cleft', 'mono', \"et c'était quoi ?\", 'ESLO1_ENT_093', 'ESLO1_ENT_093_C', 'PB', 4058311.0], ['Mot exact', 'quoi', 'in situ', 'cleft', 'mono', \"c'était quoi ?\", 'ESLO1_ENT_095', 'ESLO1_ENT_095_C', 'NC', 2971756.0], ['Mot exact', 'quoiIO', 'in situ', 'cleft', 'mono', \"et c'était pour quoi ?\", 'ESLO1_ENT_095', 'ESLO1_ENT_095_C', 'NC', 3173037.0], ['Mot exact', 'quoiIO', 'in situ', 'cleft', 'mono', \"c'était pour quoi ?\", 'ESLO1_ENT_095', 'ESLO1_ENT_095_C', 'NC', 3174282.0], ['Mot exact', 'quoiIO', 'in situ', 'cleft', 'mono', \"c'était pour quoi ?\", 'ESLO1_ENT_096', 'ESLO1_ENT_096_C', 'BV', 1939580.0], ['Mot exact', 'quoiS', 'in situ', 'cleft', 'mono', \"il y a le la gauche c'est quoi ?\", 'ESLO1_ENT_096', 'ESLO1_ENT_096_C', 'LN438', 3888438.0], ['Mot exact', 'quoi', 'in situ', 'cleft', 'mono', \"pour vous savoir vivre euh c'est quoi ?\", 'ESLO1_ENT_099', 'ESLO1_ENT_099_C', 'BV', 2496697.0], ['Mot exact', 'quoiIO', 'in situ', 'cleft', 'mono', \"trois quatre mois ? c'était pour quoi ?\", 'ESLO1_ENT_099', 'ESLO1_ENT_099_C', 'BV', 3526858.0], ['Mot exact', 'quoiS', 'in situ', 'cleft', 'mono', \"l- le le meilleur magasin de chaussures c'est quoi à Orléans enfin ?\", 'ESLO1_ENT_101', 'ESLO1_ENT_101_C', 'BV', 3061901.0], ['Mot exact', 'quoi', 'in situ', 'cleft', 'mono', \"pour vous c'est quoi c'est quoi ?\", 'ESLO1_ENT_101', 'ESLO1_ENT_101_C', 'CS', 3087527.0], ['Mot exact', 'quoi', 'in situ', 'cleft', 'mono', \"c'est quoi enfin ?\", 'ESLO1_ENT_101', 'ESLO1_ENT_101_C', 'BV', 3444359.0], ['Mot exact', 'quoiIO', 'in situ', 'cleft', 'mono', \"c'était pour quoi ?\", 'ESLO1_ENT_101', 'ESLO1_ENT_101_C', 'CS', 4959749.0], ['Mot exact', 'quoiIO', 'in situ', 'cleft', 'mono', \"ah et c'était pour quoi ?\", 'ESLO1_ENT_101', 'ESLO1_ENT_101_C', 'CS', 5289165.0], ['Mot exact', 'quoiIO', 'in situ', 'cleft', 'mono', \"c'était pour quoi ?\", 'ESLO1_ENT_102', 'ESLO1_ENT_102_C', 'MD', 1554013.0], ['Mot exact', 'quoiIO', 'in situ', 'cleft', 'mono', \"et c'était pour quoi la la toute dernière fois ?\", 'ESLO1_ENT_103', 'ESLO1_ENT_103_C', 'PB', 2944279.0], ['Mot exact', 'quoiIO', 'in situ', 'cleft', 'mono', \"et c'était pour quoi ?\", 'ESLO1_ENT_108', 'ESLO1_ENT_108_C', 'PB', 2400568.0], ['Mot exact', 'quoiIO', 'in situ', 'cleft', 'mono', \"c'était pour quoi ?\", 'ESLO1_ENT_110', 'ESLO1_ENT_110_C', 'MD', 2507979.0], ['Mot exact', 'quoiIO', 'in situ', 'cleft', 'mono', \"et c'était pour quoi ?\", 'ESLO1_ENT_114', 'ESLO1_ENT_114_C', 'NC', 2336143.0], ['Mot exact', 'quoiIO', 'in situ', 'cleft', 'mono', \"c'était pour quoi ?\", 'ESLO1_ENT_115', 'ESLO1_ENT_115_C', 'BV', 2137396.0], ['Mot exact', 'quoiIO', 'in situ', 'cleft', 'mono', \"mais enfin quand euh quand elle euh elle vous reprenait c'était pour quoi en général ?\", 'ESLO1_ENT_115', 'ESLO1_ENT_115_C', 'BV', 3268892.0], ['Mot exact', 'quoiS', 'in situ', 'cleft', 'mono', \"ce qu'il y a le plus difficile dans la langue française c'est quoi ?\", 'ESLO1_ENT_115', 'ESLO1_ENT_115_C', 'BV', 3296356.0], ['Mot exact', 'quoiIO', 'in situ', 'cleft', 'mono', \"hier ? c'était pour quoi ?\", 'ESLO1_ENT_116', 'ESLO1_ENT_116_C', 'NC', 997542.0], ['Mot exact', 'quoiIO', 'in situ', 'cleft', 'mono', \"et euh c'était pour quoi ?\", 'ESLO1_ENT_118', 'ESLO1_ENT_118_C', 'MD', 2535084.0], ['Mot exact', 'quoiIO', 'in situ', 'cleft', 'mono', \"une heure c'était pour quoi ?\", 'ESLO1_ENT_120', 'ESLO1_ENT_120_C', 'RC', 3266740.0], ['Mot exact', 'quoiIO', 'in situ', 'cleft', 'mono', \"et c'était pour quoi ?\", 'ESLO1_ENT_121', 'ESLO1_ENT_121_C', 'JSM', 4150937.0], ['Mot exact', 'quoi', 'in situ', 'cleft', 'mono', \"c'est quoi ça exactement le système suédois c'est ?\", 'ESLO1_ENT_121', 'ESLO1_ENT_121_C', 'JSM', 6949613.0], ['Mot exact', 'quoiIO', 'in situ', 'cleft', 'mono', \"et c'était pour quoi ?\", 'ESLO1_ENT_125', 'ESLO1_ENT_125_C', 'AMP', 3731229.0], ['Mot exact', 'quoi', 'in situ', 'cleft', 'mono', \"c'est c'est c'est quoi ça ?\", 'ESLO1_ENT_128', 'ESLO1_ENT_128_C', 'JSM', 894904.0], ['Mot exact', 'quoi', 'in situ', 'cleft', 'mono', \"c'est quoi ce mot ?\", 'ESLO1_ENT_133', 'ESLO1_ENT_133_C', '133INC', 2746288.0], ['Mot exact', 'quoi', 'in situ', 'cleft', 'mono', \"l'instrument avec lequel vous écrivez en général c'est quoi ?\", 'ESLO1_ENT_133', 'ESLO1_ENT_133_C', 'JK', 3557357.0], ['Mot exact', 'quoi', 'in situ', 'cleft', 'mono', \"quel euh c'est c'est quoi ?\", 'ESLO1_ENT_136', 'ESLO1_ENT_136_C', 'CS', 1996962.0], ['Mot exact', 'quoi', 'in situ', 'cleft', 'mono', \"à cause de leur métier ou c'est quoi ?\", 'ESLO1_ENT_137', 'ESLO1_ENT_137_C', 'NC', 1861965.0], ['Mot exact', 'quoi', 'in situ', 'cleft', 'mono', \"c'est quoi c'est le vocabulaire ou ?\", 'ESLO1_ENT_137', 'ESLO1_ENT_137_C', 'NC', 2306969.0], ['Mot exact', 'quoiIO', 'in situ', 'cleft', 'mono', \"et c'était pour quoi ?\", 'ESLO1_ENT_139', 'ESLO1_ENT_139_C', 'PB', 2194217.0], ['Mot exact', 'quoi', 'in situ', 'cleft', 'mono', \"votre travail consiste c'est quoi au juste ?\", 'ESLO1_ENT_140', 'ESLO1_ENT_140_C', 'JK', 110801.0], ['Mot exact', 'quoi', 'in situ', 'cleft', 'mono', \"c'est qui ? ce sont quoi ? ce c'est le conseil municipal ou\", 'ESLO1_ENT_140', 'ESLO1_ENT_140_C', 'JK', 801172.0], ['Mot exact', 'quoiIO', 'in situ', 'cleft', 'mono', \"quand on a regardé le dictionnaire la dernière fois c'est pour quoi donc ?\", 'ESLO1_ENT_142', 'ESLO1_ENT_142_C', 'VX479', 6713339.0], ['Mot exact', 'quoi', 'in situ', 'cleft', 'mono', \"c'est quoi ?\", 'ESLO1_ENT_142', 'ESLO1_ENT_142_C', 'BV', 8272435.0], ['Mot exact', 'quoi', 'in situ', 'cleft', 'mono', \"euh c'est quoi au juste ?\", 'ESLO1_ENT_147', 'ESLO1_ENT_147_C', 'RC', 73339.0], ['Mot exact', 'quoi', 'in situ', 'cleft', 'mono', \"puis l'autre c'est quoi cette mésienne ?\", 'ESLO1_ENT_147', 'ESLO1_ENT_147_C', 'YO241', 984381.0], ['Mot exact', 'quoiIO', 'in situ', 'cleft', 'mono', \"et c'était pour quoi ?\", 'ESLO1_ENT_147', 'ESLO1_ENT_147_C', 'RC', 1986038.0], ['Mot exact', 'quoiIO', 'in situ', 'cleft', 'mono', \"et c'était pour quoi ?\", 'ESLO1_ENT_149', 'ESLO1_ENT_149_C', 'MD', 5359947.0], ['Mot exact', 'quoiIO', 'in situ', 'cleft', 'mono', \"euh c'était pour quoi ?\", 'ESLO1_ENT_150', 'ESLO1_ENT_150_C', 'MD', 2080941.0], ['Mot exact', 'quoi', 'in situ', 'cleft', 'mono', \"ce c'est c'est quoi euh crayon ou stylo bille ?\", 'ESLO1_ENT_152', 'ESLO1_ENT_152_C', 'MD', 2705259.0], ['Mot exact', 'quoi', 'in situ', 'cleft', 'mono', \"ah oui ah bon ? mais c'est quoi ? alors euh\", 'ESLO1_ENT_159', 'ESLO1_ENT_159_C', 'DP', 3841934.0], ['Mot exact', 'quoiIO', 'in situ', 'cleft', 'mono', \"c'était pour quoi ?\", 'ESLO1_ENT_160', 'ESLO1_ENT_160_C', 'DP', 3837454.0], ['Mot exact', 'quoi', 'in situ', 'cleft', 'mono', \"et c'est quoi ?\", 'ESLO1_ENT_161', 'ESLO1_ENT_161_C', 'HM', 4654310.0], ['Mot exact', 'quoiIO', 'in situ', 'cleft', 'mono', \"oui c'était pour quoi ?\", 'ESLO1_ENT_161', 'ESLO1_ENT_161_C', 'HM', 4720125.0], ['Mot exact', 'quoi', 'in situ', 'cleft', 'mono', \"c'est quoi enfin ?\", 'ESLO1_ENT_164', 'ESLO1_ENT_164_C', 'BV', 1989933.0], ['Mot exact', 'quoi', 'in situ', 'cleft', 'mono', \"c'était quoi ?\", 'ESLO1_ENT_164', 'ESLO1_ENT_164_C', 'BV', 4402534.0], ['Mot exact', 'quoi', 'in situ', 'cleft', 'mono', \"c'était quoi comme école ?\", 'ESLO1_ENT_164', 'ESLO1_ENT_164_C', 'BV', 5032254.0], ['Mot exact', 'quoi', 'in situ', 'cleft', 'mono', \"le plus c'est quoi des romans policiers ou ?\", 'ESLO1_ENT_164', 'ESLO1_ENT_164_C', 'BV', 5939562.0], ['Mot exact', 'quoi', 'in situ', 'cleft', 'mono', \"c'est quoi ça ?\", 'ESLO1_ENTCONT_207', 'ESLO1_ENTCONT_207_C', 'HM', 1372506.0], ['Mot exact', 'quoi', 'in situ', 'cleft', 'mono', \"c'est quoi ?\", 'ESLO1_ENTCONT_219', 'ESLO1_ENTCONT_219_C', 'HM', 1308546.0], ['Mot exact', 'quoiS', 'in situ', 'cleft', 'mono', \"la vigne vierge c'est quoi ?\", 'ESLO1_REPAS_273', 'ESLO1_REPAS_273_C', 'FA192', 1211396.0], ['Mot exact', 'quoiIO', 'in situ', 'cleft', 'mono', \"et l'autre et l'autre c'est l'histoire de quoi ?\", 'ESLO1_REPAS_278', 'ESLO1_REPAS_278_C', 'XZ501PFIL', 131587.0], ['Mot exact', 'quoiS', 'in situ', 'cleft', 'mono', \"hé hé c'est quoi ça ?\", 'ESLO1_REPAS_278', 'ESLO1_REPAS_278_C', 'XZ501PFIE', 214737.0], ['Mot exact', 'quoi', 'in situ', 'cleft', 'mono', \"ou ailleurs c'est quoi ailleurs ?\", 'ESLO1_REPAS_278', 'ESLO1_REPAS_278_C', 'XZ501FIE2', 238770.0], ['Mot exact', 'quoi', 'in situ', 'cleft', 'mono', \"ou ailleurs c'est quoi ailleurs ?\", 'ESLO1_REPAS_278', 'ESLO1_REPAS_278_C', 'XZ501FIE2', 243480.0], ['Mot exact', 'quoiS', 'in situ', 'cleft', 'fragment', \"c'est quoi ton beau-f- ?\", 'ESLO1_REPAS_278', 'ESLO1_REPAS_278_C', 'XZ501PFIE', 611117.0], ['Mot exact', 'quoi', 'in situ', 'cleft', 'mono', \"c'est quoi alors ?\", 'ESLO1_TEL_343', 'ESLO1_TEL_343_C', 'HM', 189440.0], ['Mot exact', 'quoiS', 'in situ', 'cleft', 'mono', \"c'est quoi comme maison ?\", 'ESLO1_TEL_345', 'ESLO1_TEL_345_C', '345STAN1', 26518.0], ['Mot exact', 'quoiS', 'in situ', 'cleft', 'bi', \"c'est c'est qui ou c'est quoi qui décide des choix de manuels ?\", 'ESLO1_INTPERS_407', 'ESLO1_INTPERS_407_C', 'HM', 1162022.0], ['Mot exact', 'quoi', 'in situ', 'cleft', 'mono', \"c'est quoi ?\", 'ESLO1_INTPERS_461', 'ESLO1_INTPERS_461_C', 'JK', 1030050.0], ['Mot exact', 'quoiS', 'in situ', 'cleft', 'mono', \"c'est quoi un bourgeois ?\", 'ESLO1_INTPERS_461', 'ESLO1_INTPERS_461_C', 'JK', 1408862.0], ['Mot exact', 'quoiS', 'in situ', 'cleft', 'mono', \"les principaux c'est quoi les principaux défauts ?\", 'ESLO1_INTPERS_462', 'ESLO1_INTPERS_462_C', 'BV', 1789016.0], ['Mot exact', 'quoiS', 'in situ', 'cleft', 'mono', \"la mentalité du commerçant c'est quoi ?\", 'ESLO1_INTPERS_462', 'ESLO1_INTPERS_462_C', 'BV', 3137454.0], ['Mot exact', 'quoiS', 'in situ', 'cleft', 'mono', \"et un petit bourgeois c'est quoi ?\", 'ESLO1_INTPERS_462', 'ESLO1_INTPERS_462_C', 'BV', 3231851.0], ['Mot exact', 'quoiS', 'in situ', 'cleft', 'mono', \"la droite c'est quoi ?\", 'ESLO1_INTPERS_462', 'ESLO1_INTPERS_462_C', 'BV', 3556415.0], ['Mot exact', 'quoiS', 'in situ', 'cleft', 'mono', \"des idées de gauche c'est quoi ? vous avez dit y en a il faut des idées euh\", 'ESLO1_INTPERS_462', 'ESLO1_INTPERS_462_C', 'BV', 3696684.0], ['Mot exact', 'quoi', 'in situ', 'cleft', 'mono', \"des idées de gauche c'est quoi ?\", 'ESLO1_INTPERS_462', 'ESLO1_INTPERS_462_C', 'BV', 3700546.0], ['Mot exact', 'quoiS', 'in situ', 'cleft', 'mono', \"les moments les plus importants de votre vie c'était quoi ?\", 'ESLO1_INTPERS_462', 'ESLO1_INTPERS_462_C', 'BV', 6924101.0], ['Mot exact', 'quoiS', 'in situ', 'cleft', 'mono', \"les moments les plus importants de votre vie c'était quoi ?\", 'ESLO1_INTPERS_462', 'ESLO1_INTPERS_462_C', 'BV', 6927537.0], ['Mot exact', 'quoiS', 'in situ', 'cleft', 'mono', \"leur plus grande qualité c'est quoi ?\", 'ESLO1_INTPERS_463', 'ESLO1_INTPERS_463_C', 'BV', 1481202.0], ['Mot exact', 'quoiS', 'in situ', 'cleft', 'mono', \"les principaux c'est quoi ?\", 'ESLO1_INTPERS_463', 'ESLO1_INTPERS_463_C', 'BV', 1504295.0], ['Mot exact', 'quoi', 'in situ', 'cleft', 'mono', \"c'est quoi ?\", 'ESLO1_INTPERS_463', 'ESLO1_INTPERS_463_C', 'BV', 1506840.0], ['Mot exact', 'quoiS', 'in situ', 'cleft', 'mono', \"pour vous c'est quoi la une classe quand on dit une classe c'est quoi ?\", 'ESLO1_INTPERS_463', 'ESLO1_INTPERS_463_C', 'BV', 1575864.0], ['Mot exact', 'quoi', 'in situ', 'cleft', 'mono', \"l'esprit c'est quoi un vous pouvez décrire un peu ?\", 'ESLO1_REU_542', 'ESLO1_REU_542_C', '542ENQ', 2425612.0], ['Mot exact', 'quoi', 'in situ', 'cleft', 'mono', \"c'est quoi ?\", 'ESLO1_MAG_630', 'ESLO1_MAG_630_C', '630VEN', 126034.0], ['Mot exact', 'quoiS', 'in situ', 'cleft', 'mono', \"c'est quoi ça ?\", 'ESLO1_MAG_630', 'ESLO1_MAG_630_C', '630LOC', 173994.0], ['Mot exact', 'quoi', 'in situ', 'cleft', 'mono', \"c'est c'est quoi ça c'est ?\", 'ESLO1_MAG_630', 'ESLO1_MAG_630_C', 'JSM', 244963.0], ['Mot exact', 'quoiS', 'in situ', 'cleft', 'mono', \"un professeur hein c'est quoi son nom ? il me semble le professeur de maths euh\", 'ESLO1_CONSCMPP_703', 'ESLO1_CONSCMPP_703_C', '703MER', 607516.0], ['Mot exact', 'quoiS', 'in situ', 'cleft', 'mono', \"c'est quoi ça ?\", 'ESLO1_CONSCMPP_752', 'ESLO1_CONSCMPP_752_C', '752FIE', 63447.0]]\n"
     ]
    }
   ],
   "source": [
    "# extracts the in situ data\n",
    "\n",
    "# initialises the list that will contain all selected rows\n",
    "selected_data = [] # in situ SV\n",
    "selected_data_clefts = [] # in situ clefts\n",
    "\n",
    "# iterates through the spreadsheet to extract the data we need\n",
    "for rx in range(sheet.nrows): # rx is an int, row is a list \n",
    "    row = sheet.row(rx)\n",
    "\n",
    "    classification = row[2] # index 2 is where text of interest is stored, returns a cell\n",
    "    text_string = classification.value # converts cell into str\n",
    "\n",
    "    interrogative = row[3]\n",
    "    interr_string = interrogative.value\n",
    "\n",
    "    # initialises list that will contain our data\n",
    "    # one list is created during each iteration\n",
    "    data_list = []\n",
    "    cleft_list = []\n",
    "\n",
    "    # creates list that stores selected rows\n",
    "    if text_string == 'in situ':\n",
    "        # excludes strings classified as clefts\n",
    "        if interr_string == 'SV':\n",
    "            data_list.append(row[0].value)\n",
    "            data_list.append(row[1].value)\n",
    "            data_list.append(row[2].value)\n",
    "            data_list.append(row[3].value)\n",
    "            data_list.append(row[4].value)\n",
    "            data_list.append(row[5].value)\n",
    "            data_list.append(row[6].value)\n",
    "            data_list.append(row[7].value)\n",
    "            data_list.append(row[8].value)\n",
    "            data_list.append(row[9].value)\n",
    "\n",
    "            selected_data.append(data_list)\n",
    "\n",
    "        elif interr_string == 'cleft': \n",
    "            cleft_list.append(row[0].value)\n",
    "            cleft_list.append(row[1].value)\n",
    "            cleft_list.append(row[2].value)\n",
    "            cleft_list.append(row[3].value)\n",
    "            cleft_list.append(row[4].value)\n",
    "            cleft_list.append(row[5].value)\n",
    "            cleft_list.append(row[6].value)\n",
    "            cleft_list.append(row[7].value)\n",
    "            cleft_list.append(row[8].value)\n",
    "            cleft_list.append(row[9].value)\n",
    "\n",
    "            selected_data_clefts.append(cleft_list)\n",
    "    \n",
    "# prints extracted rows\n",
    "print(f'We extracted {len(selected_data)} rows of in situ non-cleft questions.')\n",
    "print(f'We extracted {len(selected_data_clefts)} rows of in situ cleft questions.')\n",
    "print(f'The selected rows are stored in a list of lists.')\n",
    "\n",
    "# we are going to exclude these from our analysis for now\n",
    "print('The excluded occurrences are the following:')\n",
    "print(selected_data_clefts)"
   ]
  },
  {
   "cell_type": "code",
   "execution_count": 6,
   "metadata": {},
   "outputs": [
    {
     "name": "stdout",
     "output_type": "stream",
     "text": [
      "Dictionary converted into excel...\n"
     ]
    }
   ],
   "source": [
    "# creates spreadsheet using each nested list as a row\n",
    "\n",
    "df = pd.DataFrame(data=selected_data) # only adds non-clefts to the new file\n",
    "\n",
    "# converts into excel\n",
    "df.to_excel(\"ESLO2_quoi_insitu.xlsx\", index=False)\n",
    "\n",
    "print(\"Dictionary converted into excel...\")"
   ]
  }
 ],
 "metadata": {
  "interpreter": {
   "hash": "e166b18db0aadbab4322c18013f324f24dabe01ad5a5651d6f38a0e095ae60e7"
  },
  "kernelspec": {
   "display_name": "Python 3.10.6 ('web-scraping')",
   "language": "python",
   "name": "python3"
  },
  "language_info": {
   "codemirror_mode": {
    "name": "ipython",
    "version": 3
   },
   "file_extension": ".py",
   "mimetype": "text/x-python",
   "name": "python",
   "nbconvert_exporter": "python",
   "pygments_lexer": "ipython3",
   "version": "3.10.6"
  },
  "orig_nbformat": 4
 },
 "nbformat": 4,
 "nbformat_minor": 2
}
