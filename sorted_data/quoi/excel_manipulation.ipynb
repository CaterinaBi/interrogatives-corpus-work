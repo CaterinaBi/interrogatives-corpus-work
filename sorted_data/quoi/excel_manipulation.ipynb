{
 "cells": [
  {
   "cell_type": "markdown",
   "metadata": {},
   "source": [
    "Code implementation to accelerate data extraction from the excel files downloaded from the corpus repository."
   ]
  },
  {
   "cell_type": "code",
   "execution_count": 1,
   "metadata": {},
   "outputs": [],
   "source": [
    "# imports\n",
    "\n",
    "import pandas as pd\n",
    "import xlrd"
   ]
  },
  {
   "cell_type": "code",
   "execution_count": 2,
   "metadata": {},
   "outputs": [
    {
     "name": "stdout",
     "output_type": "stream",
     "text": [
      "['export_requete_corpus_22-08-202']\n"
     ]
    }
   ],
   "source": [
    "# opens the excel sheet and reads it\n",
    "# excel sheet needs to be in the same working directory as this file\n",
    "\n",
    "file = 'quoi.xls'\n",
    "data = pd.ExcelFile(file)\n",
    "\n",
    " # returns the all the sheet names within the excel file\n",
    "print(data.sheet_names)"
   ]
  },
  {
   "cell_type": "code",
   "execution_count": 3,
   "metadata": {},
   "outputs": [
    {
     "data": {
      "text/html": [
       "<div>\n",
       "<style scoped>\n",
       "    .dataframe tbody tr th:only-of-type {\n",
       "        vertical-align: middle;\n",
       "    }\n",
       "\n",
       "    .dataframe tbody tr th {\n",
       "        vertical-align: top;\n",
       "    }\n",
       "\n",
       "    .dataframe thead th {\n",
       "        text-align: right;\n",
       "    }\n",
       "</style>\n",
       "<table border=\"1\" class=\"dataframe\">\n",
       "  <thead>\n",
       "    <tr style=\"text-align: right;\">\n",
       "      <th></th>\n",
       "      <th>recherche</th>\n",
       "      <th>occurrence</th>\n",
       "      <th>enregistrement</th>\n",
       "      <th>transcription</th>\n",
       "      <th>locuteur</th>\n",
       "      <th>debut (ms)</th>\n",
       "      <th>fin (ms)</th>\n",
       "      <th>debut (hh:mm:ss)</th>\n",
       "      <th>fin (hh:mm:ss)</th>\n",
       "      <th>segment</th>\n",
       "    </tr>\n",
       "  </thead>\n",
       "  <tbody>\n",
       "    <tr>\n",
       "      <th>0</th>\n",
       "      <td>Mot exact</td>\n",
       "      <td>quoi</td>\n",
       "      <td>ESLO1_ENT_001</td>\n",
       "      <td>ESLO1_ENT_001_C</td>\n",
       "      <td>BA725</td>\n",
       "      <td>22895.0</td>\n",
       "      <td>25650.0</td>\n",
       "      <td>00:00:22</td>\n",
       "      <td>00:00:25</td>\n",
       "      <td>ce qu'ils disent mais on n'est pas capable de ...</td>\n",
       "    </tr>\n",
       "    <tr>\n",
       "      <th>1</th>\n",
       "      <td>Mot exact</td>\n",
       "      <td>quoi</td>\n",
       "      <td>ESLO1_ENT_001</td>\n",
       "      <td>ESLO1_ENT_001_C</td>\n",
       "      <td>OU</td>\n",
       "      <td>217697.0</td>\n",
       "      <td>222152.0</td>\n",
       "      <td>00:03:37</td>\n",
       "      <td>00:03:42</td>\n",
       "      <td>est-ce que vous pouvez me dire euh en quoi Áa ...</td>\n",
       "    </tr>\n",
       "    <tr>\n",
       "      <th>2</th>\n",
       "      <td>Mot exact</td>\n",
       "      <td>quoi</td>\n",
       "      <td>ESLO1_ENT_001</td>\n",
       "      <td>ESLO1_ENT_001_C</td>\n",
       "      <td>BA725</td>\n",
       "      <td>282812.0</td>\n",
       "      <td>284267.0</td>\n",
       "      <td>00:04:42</td>\n",
       "      <td>00:04:44</td>\n",
       "      <td>je m'ennuyais de mon clocher quoi</td>\n",
       "    </tr>\n",
       "    <tr>\n",
       "      <th>3</th>\n",
       "      <td>Mot exact</td>\n",
       "      <td>quoi</td>\n",
       "      <td>ESLO1_ENT_001</td>\n",
       "      <td>ESLO1_ENT_001_C</td>\n",
       "      <td>OU</td>\n",
       "      <td>299545.0</td>\n",
       "      <td>301282.0</td>\n",
       "      <td>00:04:59</td>\n",
       "      <td>00:05:01</td>\n",
       "      <td>en quoi est-ce que Áa consiste exactement ?</td>\n",
       "    </tr>\n",
       "    <tr>\n",
       "      <th>4</th>\n",
       "      <td>Mot exact</td>\n",
       "      <td>quoi</td>\n",
       "      <td>ESLO1_ENT_001</td>\n",
       "      <td>ESLO1_ENT_001_C</td>\n",
       "      <td>BA725</td>\n",
       "      <td>335823.0</td>\n",
       "      <td>344148.0</td>\n",
       "      <td>00:05:35</td>\n",
       "      <td>00:05:44</td>\n",
       "      <td>et c'est ce qui m'a permis de faire un gros to...</td>\n",
       "    </tr>\n",
       "    <tr>\n",
       "      <th>5</th>\n",
       "      <td>Mot exact</td>\n",
       "      <td>quoi</td>\n",
       "      <td>ESLO1_ENT_001</td>\n",
       "      <td>ESLO1_ENT_001_C</td>\n",
       "      <td>BA725</td>\n",
       "      <td>429225.0</td>\n",
       "      <td>442094.0</td>\n",
       "      <td>00:07:09</td>\n",
       "      <td>00:07:22</td>\n",
       "      <td>euh quand arrivent sept heures du matin parce ...</td>\n",
       "    </tr>\n",
       "    <tr>\n",
       "      <th>6</th>\n",
       "      <td>Mot exact</td>\n",
       "      <td>quoi</td>\n",
       "      <td>ESLO1_ENT_001</td>\n",
       "      <td>ESLO1_ENT_001_C</td>\n",
       "      <td>BA725</td>\n",
       "      <td>552196.0</td>\n",
       "      <td>562071.0</td>\n",
       "      <td>00:09:12</td>\n",
       "      <td>00:09:22</td>\n",
       "      <td>euh l'abattage se fait quoi</td>\n",
       "    </tr>\n",
       "    <tr>\n",
       "      <th>7</th>\n",
       "      <td>Mot exact</td>\n",
       "      <td>quoi</td>\n",
       "      <td>ESLO1_ENT_001</td>\n",
       "      <td>ESLO1_ENT_001_C</td>\n",
       "      <td>BA725</td>\n",
       "      <td>562071.0</td>\n",
       "      <td>562364.0</td>\n",
       "      <td>00:09:22</td>\n",
       "      <td>00:09:22</td>\n",
       "      <td>quoi</td>\n",
       "    </tr>\n",
       "    <tr>\n",
       "      <th>8</th>\n",
       "      <td>Mot exact</td>\n",
       "      <td>quoi</td>\n",
       "      <td>ESLO1_ENT_001</td>\n",
       "      <td>ESLO1_ENT_001_C</td>\n",
       "      <td>BA725</td>\n",
       "      <td>701245.0</td>\n",
       "      <td>701958.0</td>\n",
       "      <td>00:11:41</td>\n",
       "      <td>00:11:41</td>\n",
       "      <td>quoi si vous voulez</td>\n",
       "    </tr>\n",
       "    <tr>\n",
       "      <th>9</th>\n",
       "      <td>Mot exact</td>\n",
       "      <td>quoi</td>\n",
       "      <td>ESLO1_ENT_001</td>\n",
       "      <td>ESLO1_ENT_001_C</td>\n",
       "      <td>BA725</td>\n",
       "      <td>953890.0</td>\n",
       "      <td>957351.0</td>\n",
       "      <td>00:15:53</td>\n",
       "      <td>00:15:57</td>\n",
       "      <td>et puis on mon dieu on est revenu quoi parce q...</td>\n",
       "    </tr>\n",
       "  </tbody>\n",
       "</table>\n",
       "</div>"
      ],
      "text/plain": [
       "   recherche occurrence enregistrement    transcription locuteur  debut (ms)  \\\n",
       "0  Mot exact       quoi  ESLO1_ENT_001  ESLO1_ENT_001_C    BA725     22895.0   \n",
       "1  Mot exact       quoi  ESLO1_ENT_001  ESLO1_ENT_001_C       OU    217697.0   \n",
       "2  Mot exact       quoi  ESLO1_ENT_001  ESLO1_ENT_001_C    BA725    282812.0   \n",
       "3  Mot exact       quoi  ESLO1_ENT_001  ESLO1_ENT_001_C       OU    299545.0   \n",
       "4  Mot exact       quoi  ESLO1_ENT_001  ESLO1_ENT_001_C    BA725    335823.0   \n",
       "5  Mot exact       quoi  ESLO1_ENT_001  ESLO1_ENT_001_C    BA725    429225.0   \n",
       "6  Mot exact       quoi  ESLO1_ENT_001  ESLO1_ENT_001_C    BA725    552196.0   \n",
       "7  Mot exact       quoi  ESLO1_ENT_001  ESLO1_ENT_001_C    BA725    562071.0   \n",
       "8  Mot exact       quoi  ESLO1_ENT_001  ESLO1_ENT_001_C    BA725    701245.0   \n",
       "9  Mot exact       quoi  ESLO1_ENT_001  ESLO1_ENT_001_C    BA725    953890.0   \n",
       "\n",
       "   fin (ms) debut (hh:mm:ss) fin (hh:mm:ss)  \\\n",
       "0   25650.0         00:00:22       00:00:25   \n",
       "1  222152.0         00:03:37       00:03:42   \n",
       "2  284267.0         00:04:42       00:04:44   \n",
       "3  301282.0         00:04:59       00:05:01   \n",
       "4  344148.0         00:05:35       00:05:44   \n",
       "5  442094.0         00:07:09       00:07:22   \n",
       "6  562071.0         00:09:12       00:09:22   \n",
       "7  562364.0         00:09:22       00:09:22   \n",
       "8  701958.0         00:11:41       00:11:41   \n",
       "9  957351.0         00:15:53       00:15:57   \n",
       "\n",
       "                                             segment  \n",
       "0  ce qu'ils disent mais on n'est pas capable de ...  \n",
       "1  est-ce que vous pouvez me dire euh en quoi Áa ...  \n",
       "2                  je m'ennuyais de mon clocher quoi  \n",
       "3        en quoi est-ce que Áa consiste exactement ?  \n",
       "4  et c'est ce qui m'a permis de faire un gros to...  \n",
       "5  euh quand arrivent sept heures du matin parce ...  \n",
       "6                        euh l'abattage se fait quoi  \n",
       "7                                               quoi  \n",
       "8                                quoi si vous voulez  \n",
       "9  et puis on mon dieu on est revenu quoi parce q...  "
      ]
     },
     "execution_count": 3,
     "metadata": {},
     "output_type": "execute_result"
    }
   ],
   "source": [
    "# parses the sheet into a data frame to make sure it's being read in correctly\n",
    "\n",
    "data_frame = data.parse('export_requete_corpus_22-08-202')\n",
    "data_frame.info\n",
    "\n",
    "# only shows the first 10 rows\n",
    "data_frame.head(10)"
   ]
  },
  {
   "cell_type": "code",
   "execution_count": 4,
   "metadata": {},
   "outputs": [
    {
     "name": "stdout",
     "output_type": "stream",
     "text": [
      "Total rows: 12062\n",
      "Total columns: 10\n"
     ]
    }
   ],
   "source": [
    "# reads in the spreadsheet data\n",
    "\n",
    "workbook = xlrd.open_workbook('quoi.xls')\n",
    "sheet = workbook.sheet_by_name('export_requete_corpus_22-08-202')\n",
    "\n",
    "# gets the first sheet\n",
    "sheet_1 = workbook.sheet_by_index(0)\n",
    "\n",
    "row_count = sheet.nrows\n",
    "col_count = sheet.ncols\n",
    "print(f'Total rows: {row_count}\\nTotal columns: {col_count}')"
   ]
  },
  {
   "cell_type": "code",
   "execution_count": 5,
   "metadata": {},
   "outputs": [
    {
     "name": "stdout",
     "output_type": "stream",
     "text": [
      "We extracted 2358 rows.\n",
      "The selected rows are stored in a list of lists.\n"
     ]
    }
   ],
   "source": [
    "# iterates through columns to find those with a '?'\n",
    "# creates a list of selected rows (easier to convert to .xlsx than a dictionary)\n",
    "\n",
    "# initialises list of lists\n",
    "selected_rows = []\n",
    "\n",
    "for rx in range(sheet.nrows): # rx is an int, row is a list \n",
    "    row = sheet.row(rx)\n",
    "    text = row[9] # index 9 is where text of interest is stored, returns a cell\n",
    "    text_string = text.value # converts cell into str\n",
    "\n",
    "    # initialises list that will contain our data\n",
    "    data_list = []\n",
    "\n",
    "    # creates list that stores selected rows\n",
    "    if '?' in text_string:\n",
    "        data_list.append(row[0].value)\n",
    "        data_list.append(row[1].value)\n",
    "        data_list.append(row[2].value)\n",
    "        data_list.append(row[3].value)\n",
    "        data_list.append(row[4].value)\n",
    "        data_list.append(row[5].value)\n",
    "        data_list.append(row[6].value)\n",
    "        data_list.append(row[7].value)\n",
    "        data_list.append(row[8].value)\n",
    "        data_list.append(row[9].value)\n",
    "\n",
    "        selected_rows.append(data_list)\n",
    "    \n",
    "# prints extracted rows\n",
    "print(f'We extracted {len(selected_rows)} rows.')\n",
    "print(f'The selected rows are stored in a list of lists.')"
   ]
  },
  {
   "cell_type": "markdown",
   "metadata": {},
   "source": [
    "Now that we have the selected rows stored into embedded lists, we're going to export our these into a new .xlsx file using pandas."
   ]
  },
  {
   "cell_type": "code",
   "execution_count": 6,
   "metadata": {},
   "outputs": [
    {
     "name": "stdout",
     "output_type": "stream",
     "text": [
      "Dictionary converted into excel...\n"
     ]
    }
   ],
   "source": [
    "# creates spreadsheet using each nested list as a row\n",
    "\n",
    "df = pd.DataFrame(data=selected_rows)\n",
    "\n",
    "# converts into excel\n",
    "df.to_excel(\"selected_rows.xlsx\", index=False)\n",
    "\n",
    "print(\"Dictionary converted into excel...\")"
   ]
  }
 ],
 "metadata": {
  "interpreter": {
   "hash": "c7b2d02c07dc615871e2bd1a1246b89714f2151eeb8e00fcd4ada13785228d85"
  },
  "kernelspec": {
   "display_name": "Python 3.9.13 ('base')",
   "language": "python",
   "name": "python3"
  },
  "language_info": {
   "codemirror_mode": {
    "name": "ipython",
    "version": 3
   },
   "file_extension": ".py",
   "mimetype": "text/x-python",
   "name": "python",
   "nbconvert_exporter": "python",
   "pygments_lexer": "ipython3",
   "version": "3.9.13"
  },
  "orig_nbformat": 4
 },
 "nbformat": 4,
 "nbformat_minor": 2
}
